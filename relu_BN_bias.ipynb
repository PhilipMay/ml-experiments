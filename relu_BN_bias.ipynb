{
 "cells": [
  {
   "cell_type": "markdown",
   "metadata": {},
   "source": [
    "Experiment of BatchNormalization usage with and without bias."
   ]
  },
  {
   "cell_type": "code",
   "execution_count": 1,
   "metadata": {},
   "outputs": [
    {
     "name": "stdout",
     "output_type": "stream",
     "text": [
      "Requirement already satisfied: mltb==0.0.9 in c:\\programdata\\miniconda3\\envs\\py36\\lib\\site-packages (0.0.9)\n",
      "Requirement already satisfied: matplotlib in c:\\programdata\\miniconda3\\envs\\py36\\lib\\site-packages (from mltb==0.0.9) (3.0.1)\n",
      "Requirement already satisfied: numpy in c:\\programdata\\miniconda3\\envs\\py36\\lib\\site-packages (from mltb==0.0.9) (1.15.3)\n",
      "Requirement already satisfied: keras in c:\\programdata\\miniconda3\\envs\\py36\\lib\\site-packages (from mltb==0.0.9) (2.2.4)\n",
      "Requirement already satisfied: sklearn in c:\\programdata\\miniconda3\\envs\\py36\\lib\\site-packages (from mltb==0.0.9) (0.0)\n",
      "Requirement already satisfied: pyparsing!=2.0.4,!=2.1.2,!=2.1.6,>=2.0.1 in c:\\programdata\\miniconda3\\envs\\py36\\lib\\site-packages (from matplotlib->mltb==0.0.9) (2.2.2)\n",
      "Requirement already satisfied: cycler>=0.10 in c:\\programdata\\miniconda3\\envs\\py36\\lib\\site-packages (from matplotlib->mltb==0.0.9) (0.10.0)\n",
      "Requirement already satisfied: kiwisolver>=1.0.1 in c:\\programdata\\miniconda3\\envs\\py36\\lib\\site-packages (from matplotlib->mltb==0.0.9) (1.0.1)\n",
      "Requirement already satisfied: python-dateutil>=2.1 in c:\\programdata\\miniconda3\\envs\\py36\\lib\\site-packages (from matplotlib->mltb==0.0.9) (2.7.5)\n",
      "Requirement already satisfied: scipy>=0.14 in c:\\programdata\\miniconda3\\envs\\py36\\lib\\site-packages (from keras->mltb==0.0.9) (1.1.0)\n",
      "Requirement already satisfied: h5py in c:\\programdata\\miniconda3\\envs\\py36\\lib\\site-packages (from keras->mltb==0.0.9) (2.8.0)\n",
      "Requirement already satisfied: keras-applications>=1.0.6 in c:\\programdata\\miniconda3\\envs\\py36\\lib\\site-packages (from keras->mltb==0.0.9) (1.0.6)\n",
      "Requirement already satisfied: keras-preprocessing>=1.0.5 in c:\\programdata\\miniconda3\\envs\\py36\\lib\\site-packages (from keras->mltb==0.0.9) (1.0.5)\n",
      "Requirement already satisfied: pyyaml in c:\\programdata\\miniconda3\\envs\\py36\\lib\\site-packages (from keras->mltb==0.0.9) (3.13)\n",
      "Requirement already satisfied: six>=1.9.0 in c:\\programdata\\miniconda3\\envs\\py36\\lib\\site-packages (from keras->mltb==0.0.9) (1.11.0)\n",
      "Requirement already satisfied: scikit-learn in c:\\programdata\\miniconda3\\envs\\py36\\lib\\site-packages (from sklearn->mltb==0.0.9) (0.20.0)\n",
      "Requirement already satisfied: setuptools in c:\\programdata\\miniconda3\\envs\\py36\\lib\\site-packages (from kiwisolver>=1.0.1->matplotlib->mltb==0.0.9) (39.1.0)\n"
     ]
    }
   ],
   "source": [
    "# load the mltb lib - see here: https://github.com/PhilipMay/mltb\n",
    "!pip install mltb==0.0.9"
   ]
  },
  {
   "cell_type": "code",
   "execution_count": 2,
   "metadata": {
    "colab": {
     "base_uri": "https://localhost:8080/",
     "height": 332
    },
    "colab_type": "code",
    "id": "yeZ2qSzGy600",
    "outputId": "37724a00-6b36-4c44-8a1e-057339d4e575"
   },
   "outputs": [
    {
     "name": "stderr",
     "output_type": "stream",
     "text": [
      "Using TensorFlow backend.\n"
     ]
    }
   ],
   "source": [
    "import mltb\n",
    "import numpy as np\n",
    "from keras.datasets import mnist\n",
    "from keras.utils import to_categorical\n",
    "from keras import models\n",
    "from keras import layers\n",
    "from keras.callbacks import EarlyStopping\n",
    "\n",
    "%matplotlib inline"
   ]
  },
  {
   "cell_type": "code",
   "execution_count": 3,
   "metadata": {
    "colab": {},
    "colab_type": "code",
    "id": "TCpiHwDWzBP9"
   },
   "outputs": [],
   "source": [
    "# load MNIST data\n",
    "(train_images, train_labels), (val_images, val_labels) = mnist.load_data()"
   ]
  },
  {
   "cell_type": "code",
   "execution_count": 4,
   "metadata": {
    "colab": {
     "base_uri": "https://localhost:8080/",
     "height": 86
    },
    "colab_type": "code",
    "id": "XsZCVOx1zEVw",
    "outputId": "a79713bd-fdb1-4384-fe5e-62117c9ed453"
   },
   "outputs": [
    {
     "name": "stdout",
     "output_type": "stream",
     "text": [
      "train_images.shape: (60000, 28, 28)\n",
      "train_labels.shape: (60000,)\n",
      "val_images.shape: (10000, 28, 28)\n",
      "val_labels.shape: (10000,)\n"
     ]
    }
   ],
   "source": [
    "# show shape of data\n",
    "print(\"train_images.shape:\", train_images.shape)\n",
    "print(\"train_labels.shape:\", train_labels.shape)\n",
    "print(\"val_images.shape:\", val_images.shape)\n",
    "print(\"val_labels.shape:\", val_labels.shape)"
   ]
  },
  {
   "cell_type": "code",
   "execution_count": 5,
   "metadata": {},
   "outputs": [],
   "source": [
    "# one hot encode the labels\n",
    "train_labels = to_categorical(train_labels)\n",
    "val_labels = to_categorical(val_labels)"
   ]
  },
  {
   "cell_type": "code",
   "execution_count": 6,
   "metadata": {},
   "outputs": [],
   "source": [
    "# flatten the data so we can send it to dense layer\n",
    "train_images = train_images.reshape((60000, 28 * 28))\n",
    "val_images = val_images.reshape((10000, 28 * 28))"
   ]
  },
  {
   "cell_type": "code",
   "execution_count": 7,
   "metadata": {},
   "outputs": [],
   "source": [
    "# normalization (min-max scaling) to 0 to 1\n",
    "train_images = train_images.astype('float32') / 255\n",
    "val_images = val_images.astype('float32') / 255"
   ]
  },
  {
   "cell_type": "code",
   "execution_count": 8,
   "metadata": {
    "colab": {},
    "colab_type": "code",
    "id": "0pBVVRzZ1CVA"
   },
   "outputs": [],
   "source": [
    "#network with BatchNormalization and with bias\n",
    "def network_a():\n",
    "    network = models.Sequential()\n",
    "    network.add(layers.Dense(100, input_shape=(28 * 28,)))\n",
    "    network.add(layers.BatchNormalization())\n",
    "    network.add(layers.Activation('relu'))\n",
    "    network.add(layers.Dense(100))\n",
    "    network.add(layers.BatchNormalization())\n",
    "    network.add(layers.Activation('relu')) \n",
    "    network.add(layers.Dense(100))\n",
    "    network.add(layers.BatchNormalization())\n",
    "    network.add(layers.Activation('relu'))\n",
    "    network.add(layers.Dense(10, activation='softmax'))\n",
    "    return network"
   ]
  },
  {
   "cell_type": "code",
   "execution_count": 9,
   "metadata": {},
   "outputs": [],
   "source": [
    "#network with BatchNormalization but without bias (use_bias=False)\n",
    "def network_b():\n",
    "    network = models.Sequential()\n",
    "    network.add(layers.Dense(100, use_bias=False, input_shape=(28 * 28,)))\n",
    "    network.add(layers.BatchNormalization())\n",
    "    network.add(layers.Activation('relu'))\n",
    "    network.add(layers.Dense(100, use_bias=False))\n",
    "    network.add(layers.BatchNormalization())\n",
    "    network.add(layers.Activation('relu')) \n",
    "    network.add(layers.Dense(100, use_bias=False))\n",
    "    network.add(layers.BatchNormalization())\n",
    "    network.add(layers.Activation('relu'))\n",
    "    network.add(layers.Dense(10, activation='softmax'))\n",
    "    return network"
   ]
  },
  {
   "cell_type": "code",
   "execution_count": 10,
   "metadata": {},
   "outputs": [
    {
     "name": "stdout",
     "output_type": "stream",
     "text": [
      "_________________________________________________________________\n",
      "Layer (type)                 Output Shape              Param #   \n",
      "=================================================================\n",
      "dense_1 (Dense)              (None, 100)               78500     \n",
      "_________________________________________________________________\n",
      "batch_normalization_1 (Batch (None, 100)               400       \n",
      "_________________________________________________________________\n",
      "activation_1 (Activation)    (None, 100)               0         \n",
      "_________________________________________________________________\n",
      "dense_2 (Dense)              (None, 100)               10100     \n",
      "_________________________________________________________________\n",
      "batch_normalization_2 (Batch (None, 100)               400       \n",
      "_________________________________________________________________\n",
      "activation_2 (Activation)    (None, 100)               0         \n",
      "_________________________________________________________________\n",
      "dense_3 (Dense)              (None, 100)               10100     \n",
      "_________________________________________________________________\n",
      "batch_normalization_3 (Batch (None, 100)               400       \n",
      "_________________________________________________________________\n",
      "activation_3 (Activation)    (None, 100)               0         \n",
      "_________________________________________________________________\n",
      "dense_4 (Dense)              (None, 10)                1010      \n",
      "=================================================================\n",
      "Total params: 100,910\n",
      "Trainable params: 100,310\n",
      "Non-trainable params: 600\n",
      "_________________________________________________________________\n"
     ]
    }
   ],
   "source": [
    "# print summary representation of network a\n",
    "network_a().summary()"
   ]
  },
  {
   "cell_type": "code",
   "execution_count": 11,
   "metadata": {},
   "outputs": [
    {
     "name": "stdout",
     "output_type": "stream",
     "text": [
      "_________________________________________________________________\n",
      "Layer (type)                 Output Shape              Param #   \n",
      "=================================================================\n",
      "dense_5 (Dense)              (None, 100)               78400     \n",
      "_________________________________________________________________\n",
      "batch_normalization_4 (Batch (None, 100)               400       \n",
      "_________________________________________________________________\n",
      "activation_4 (Activation)    (None, 100)               0         \n",
      "_________________________________________________________________\n",
      "dense_6 (Dense)              (None, 100)               10000     \n",
      "_________________________________________________________________\n",
      "batch_normalization_5 (Batch (None, 100)               400       \n",
      "_________________________________________________________________\n",
      "activation_5 (Activation)    (None, 100)               0         \n",
      "_________________________________________________________________\n",
      "dense_7 (Dense)              (None, 100)               10000     \n",
      "_________________________________________________________________\n",
      "batch_normalization_6 (Batch (None, 100)               400       \n",
      "_________________________________________________________________\n",
      "activation_6 (Activation)    (None, 100)               0         \n",
      "_________________________________________________________________\n",
      "dense_8 (Dense)              (None, 10)                1010      \n",
      "=================================================================\n",
      "Total params: 100,610\n",
      "Trainable params: 100,010\n",
      "Non-trainable params: 600\n",
      "_________________________________________________________________\n"
     ]
    }
   ],
   "source": [
    "# print summary representation of network b\n",
    "network_b().summary()"
   ]
  },
  {
   "cell_type": "code",
   "execution_count": 12,
   "metadata": {},
   "outputs": [],
   "source": [
    "# create the different networks, fit them and return results\n",
    "def fit(value):\n",
    "    network = None\n",
    "    \n",
    "    if value == 'a':\n",
    "        network = network_a()\n",
    "    if value == 'b':\n",
    "        network = network_b()\n",
    "        \n",
    "    network.compile(optimizer='adam',\n",
    "                loss='categorical_crossentropy',\n",
    "                metrics=['accuracy'])\n",
    " \n",
    "    es = EarlyStopping(monitor='val_acc', patience=5, mode='max')\n",
    "    \n",
    "    history = network.fit(train_images, train_labels, \n",
    "                          validation_data=(val_images, val_labels), \n",
    "                          epochs=100, \n",
    "                          callbacks=[es],\n",
    "                          verbose=0,\n",
    "                          batch_size=128)\n",
    "    \n",
    "    best_val_acc = max(history.history['val_acc'])\n",
    "    \n",
    "    best_val_acc_epoch = history.history['val_acc'].index(best_val_acc) + 1\n",
    "    \n",
    "    return {'best_val_acc' : best_val_acc, 'best_val_acc_epoch' : best_val_acc_epoch}"
   ]
  },
  {
   "cell_type": "code",
   "execution_count": 13,
   "metadata": {
    "colab": {
     "base_uri": "https://localhost:8080/",
     "height": 2816
    },
    "colab_type": "code",
    "id": "ysDBwTkk2IyV",
    "outputId": "2bdc5c9a-aeb9-4a30-9fc0-a8b01e6758c6"
   },
   "outputs": [
    {
     "name": "stdout",
     "output_type": "stream",
     "text": [
      "Done with relu + BN + bias - iteration 1 of 41.\n",
      "Done with relu + BN + bias - iteration 2 of 41.\n",
      "Done with relu + BN + bias - iteration 3 of 41.\n",
      "Done with relu + BN + bias - iteration 4 of 41.\n",
      "Done with relu + BN + bias - iteration 5 of 41.\n",
      "Done with relu + BN + bias - iteration 6 of 41.\n",
      "Done with relu + BN + bias - iteration 7 of 41.\n",
      "Done with relu + BN + bias - iteration 8 of 41.\n",
      "Done with relu + BN + bias - iteration 9 of 41.\n",
      "Done with relu + BN + bias - iteration 10 of 41.\n",
      "Done with relu + BN + bias - iteration 11 of 41.\n",
      "Done with relu + BN + bias - iteration 12 of 41.\n",
      "Done with relu + BN + bias - iteration 13 of 41.\n",
      "Done with relu + BN + bias - iteration 14 of 41.\n",
      "Done with relu + BN + bias - iteration 15 of 41.\n",
      "Done with relu + BN + bias - iteration 16 of 41.\n",
      "Done with relu + BN + bias - iteration 17 of 41.\n",
      "Done with relu + BN + bias - iteration 18 of 41.\n",
      "Done with relu + BN + bias - iteration 19 of 41.\n",
      "Done with relu + BN + bias - iteration 20 of 41.\n",
      "Done with relu + BN + bias - iteration 21 of 41.\n",
      "Done with relu + BN + bias - iteration 22 of 41.\n",
      "Done with relu + BN + bias - iteration 23 of 41.\n",
      "Done with relu + BN + bias - iteration 24 of 41.\n",
      "Done with relu + BN + bias - iteration 25 of 41.\n",
      "Done with relu + BN + bias - iteration 26 of 41.\n",
      "Done with relu + BN + bias - iteration 27 of 41.\n",
      "Done with relu + BN + bias - iteration 28 of 41.\n",
      "Done with relu + BN + bias - iteration 29 of 41.\n",
      "Done with relu + BN + bias - iteration 30 of 41.\n",
      "Done with relu + BN + bias - iteration 31 of 41.\n",
      "Done with relu + BN + bias - iteration 32 of 41.\n",
      "Done with relu + BN + bias - iteration 33 of 41.\n",
      "Done with relu + BN + bias - iteration 34 of 41.\n",
      "Done with relu + BN + bias - iteration 35 of 41.\n",
      "Done with relu + BN + bias - iteration 36 of 41.\n",
      "Done with relu + BN + bias - iteration 37 of 41.\n",
      "Done with relu + BN + bias - iteration 38 of 41.\n",
      "Done with relu + BN + bias - iteration 39 of 41.\n",
      "Done with relu + BN + bias - iteration 40 of 41.\n",
      "Done with relu + BN + bias - iteration 41 of 41.\n",
      "Done with relu + BN no bias - iteration 1 of 41.\n",
      "Done with relu + BN no bias - iteration 2 of 41.\n",
      "Done with relu + BN no bias - iteration 3 of 41.\n",
      "Done with relu + BN no bias - iteration 4 of 41.\n",
      "Done with relu + BN no bias - iteration 5 of 41.\n",
      "Done with relu + BN no bias - iteration 6 of 41.\n",
      "Done with relu + BN no bias - iteration 7 of 41.\n",
      "Done with relu + BN no bias - iteration 8 of 41.\n",
      "Done with relu + BN no bias - iteration 9 of 41.\n",
      "Done with relu + BN no bias - iteration 10 of 41.\n",
      "Done with relu + BN no bias - iteration 11 of 41.\n",
      "Done with relu + BN no bias - iteration 12 of 41.\n",
      "Done with relu + BN no bias - iteration 13 of 41.\n",
      "Done with relu + BN no bias - iteration 14 of 41.\n",
      "Done with relu + BN no bias - iteration 15 of 41.\n",
      "Done with relu + BN no bias - iteration 16 of 41.\n",
      "Done with relu + BN no bias - iteration 17 of 41.\n",
      "Done with relu + BN no bias - iteration 18 of 41.\n",
      "Done with relu + BN no bias - iteration 19 of 41.\n",
      "Done with relu + BN no bias - iteration 20 of 41.\n",
      "Done with relu + BN no bias - iteration 21 of 41.\n",
      "Done with relu + BN no bias - iteration 22 of 41.\n",
      "Done with relu + BN no bias - iteration 23 of 41.\n",
      "Done with relu + BN no bias - iteration 24 of 41.\n",
      "Done with relu + BN no bias - iteration 25 of 41.\n",
      "Done with relu + BN no bias - iteration 26 of 41.\n",
      "Done with relu + BN no bias - iteration 27 of 41.\n",
      "Done with relu + BN no bias - iteration 28 of 41.\n",
      "Done with relu + BN no bias - iteration 29 of 41.\n",
      "Done with relu + BN no bias - iteration 30 of 41.\n",
      "Done with relu + BN no bias - iteration 31 of 41.\n",
      "Done with relu + BN no bias - iteration 32 of 41.\n",
      "Done with relu + BN no bias - iteration 33 of 41.\n",
      "Done with relu + BN no bias - iteration 34 of 41.\n",
      "Done with relu + BN no bias - iteration 35 of 41.\n",
      "Done with relu + BN no bias - iteration 36 of 41.\n",
      "Done with relu + BN no bias - iteration 37 of 41.\n",
      "Done with relu + BN no bias - iteration 38 of 41.\n",
      "Done with relu + BN no bias - iteration 39 of 41.\n",
      "Done with relu + BN no bias - iteration 40 of 41.\n",
      "Done with relu + BN no bias - iteration 41 of 41.\n"
     ]
    }
   ],
   "source": [
    "# dict with call params (here just a or b)\n",
    "param_dict = {'relu + BN + bias' : 'a', \n",
    "              'relu + BN no bias' : 'b', \n",
    "             }\n",
    "\n",
    "# fit the networks many times and return the result\n",
    "# see here: https://github.com/PhilipMay/mltb/blob/master/mltb/tools.py\n",
    "result = mltb.tools.multi_param_call(fit, param_dict, 41)"
   ]
  },
  {
   "cell_type": "code",
   "execution_count": 14,
   "metadata": {},
   "outputs": [
    {
     "name": "stdout",
     "output_type": "stream",
     "text": [
      "{'best_val_acc': {'relu + BN + bias': [0.9776, 0.9806, 0.9776, 0.9793, 0.9796, 0.9806, 0.9818, 0.9791, 0.9795, 0.9819, 0.9805, 0.9761, 0.9819, 0.979, 0.9799, 0.9779, 0.978, 0.9786, 0.9795, 0.9785, 0.9787, 0.9792, 0.9782, 0.9808, 0.9783, 0.9783, 0.9787, 0.9802, 0.9812, 0.9797, 0.9812, 0.9808, 0.9802, 0.9808, 0.9796, 0.9795, 0.9782, 0.9785, 0.9808, 0.9782, 0.9806], 'relu + BN no bias': [0.9804, 0.9787, 0.9819, 0.9792, 0.9804, 0.9777, 0.9763, 0.9785, 0.9781, 0.9805, 0.979, 0.9787, 0.9808, 0.9785, 0.9798, 0.9795, 0.9803, 0.981, 0.9783, 0.9788, 0.9771, 0.9755, 0.9797, 0.9791, 0.9805, 0.979, 0.98, 0.9795, 0.9828, 0.9797, 0.9794, 0.9801, 0.9777, 0.9782, 0.9797, 0.9785, 0.9798, 0.9802, 0.9812, 0.9802, 0.9807]}, 'best_val_acc_epoch': {'relu + BN + bias': [5, 14, 7, 8, 12, 15, 15, 8, 11, 25, 9, 4, 19, 11, 7, 8, 6, 7, 10, 10, 21, 7, 8, 17, 8, 4, 10, 16, 23, 8, 16, 18, 13, 28, 7, 12, 9, 4, 21, 14, 16], 'relu + BN no bias': [13, 14, 13, 7, 19, 12, 6, 11, 8, 13, 9, 5, 20, 7, 16, 11, 19, 14, 7, 10, 8, 6, 16, 8, 14, 12, 8, 13, 21, 9, 8, 18, 9, 8, 19, 7, 11, 7, 35, 7, 16]}}\n"
     ]
    }
   ],
   "source": [
    "#print the result\n",
    "print(result)"
   ]
  },
  {
   "cell_type": "code",
   "execution_count": 15,
   "metadata": {
    "colab": {
     "base_uri": "https://localhost:8080/",
     "height": 402
    },
    "colab_type": "code",
    "id": "Vys6lw-_2NXC",
    "outputId": "223e34ab-078b-4a64-c9e9-e40451fb228c"
   },
   "outputs": [
    {
     "data": {
      "image/png": "[encoded data removed]",
      "text/plain": [
       "<Figure size 432x288 with 1 Axes>"
      ]
     },
     "metadata": {
      "needs_background": "light"
     },
     "output_type": "display_data"
    }
   ],
   "source": [
    "# print boxplots to compare validation accuracy of both results \n",
    "# see here: https://github.com/PhilipMay/mltb/blob/master/mltb/plot.py\n",
    "mltb.plot.boxplot_dict(result['best_val_acc'], \n",
    "                       ylabel='Validation accuracy', \n",
    "                       title='Boxplots of validation accuracy'\n",
    "                      )"
   ]
  },
  {
   "cell_type": "code",
   "execution_count": 16,
   "metadata": {
    "colab": {},
    "colab_type": "code",
    "id": "m55_HILCwR6i"
   },
   "outputs": [
    {
     "name": "stdout",
     "output_type": "stream",
     "text": [
      "p-value for best_val_acc: {('relu + BN + bias', 'relu + BN no bias'): 0.7365710071459269}\n"
     ]
    }
   ],
   "source": [
    "# p-value for validation accuracy - can we reject the null hypothesis?\n",
    "# see here: https://github.com/PhilipMay/mltb/blob/master/mltb/tools.py\n",
    "print('p-value for best_val_acc:', mltb.tools.ttest_combinations(result['best_val_acc']))"
   ]
  },
  {
   "cell_type": "code",
   "execution_count": 17,
   "metadata": {},
   "outputs": [
    {
     "data": {
      "image/png": "[encoded data removed]",
      "text/plain": [
       "<Figure size 432x288 with 1 Axes>"
      ]
     },
     "metadata": {
      "needs_background": "light"
     },
     "output_type": "display_data"
    }
   ],
   "source": [
    "# print boxplots to compare wich epoch had the best validation accuracy (how fast the network learns)\n",
    "# see here: https://github.com/PhilipMay/mltb/blob/master/mltb/plot.py\n",
    "mltb.plot.boxplot_dict(result['best_val_acc_epoch'], \n",
    "                       ylabel='Best validation accuracy epoch number', \n",
    "                       title='Boxplots of best validation accuracy epoch (how fast the network learns)'\n",
    "                      )"
   ]
  },
  {
   "cell_type": "code",
   "execution_count": 18,
   "metadata": {},
   "outputs": [
    {
     "name": "stdout",
     "output_type": "stream",
     "text": [
      "p-value for best_val_acc_epoch: {('relu + BN + bias', 'relu + BN no bias'): 0.9550379256642582}\n"
     ]
    }
   ],
   "source": [
    "# p-value for best validation accuracy epoch - can we reject the null hypothesis?\n",
    "# see here: https://github.com/PhilipMay/mltb/blob/master/mltb/tools.py\n",
    "print('p-value for best_val_acc_epoch:', mltb.tools.ttest_combinations(result['best_val_acc_epoch']))"
   ]
  }
 ],
 "metadata": {
  "accelerator": "GPU",
  "colab": {
   "collapsed_sections": [],
   "name": "scaling+relu.ipynb",
   "provenance": [],
   "version": "0.3.2"
  },
  "kernelspec": {
   "display_name": "Python 3",
   "language": "python",
   "name": "python3"
  },
  "language_info": {
   "codemirror_mode": {
    "name": "ipython",
    "version": 3
   },
   "file_extension": ".py",
   "mimetype": "text/x-python",
   "name": "python",
   "nbconvert_exporter": "python",
   "pygments_lexer": "ipython3",
   "version": "3.6.7"
  }
 },
 "nbformat": 4,
 "nbformat_minor": 1
}
