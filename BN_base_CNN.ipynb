{
 "cells": [
  {
   "cell_type": "markdown",
   "metadata": {},
   "source": [
    "Baseline experiment of BatchNormalization usage for a CNN."
   ]
  },
  {
   "cell_type": "code",
   "execution_count": 1,
   "metadata": {},
   "outputs": [
    {
     "name": "stdout",
     "output_type": "stream",
     "text": [
      "Requirement already satisfied: mltb==0.0.14 in /home/phmay/miniconda3/envs/py36/lib/python3.6/site-packages (0.0.14)\n",
      "Requirement already satisfied: numpy in /home/phmay/miniconda3/envs/py36/lib/python3.6/site-packages (from mltb==0.0.14) (1.15.4)\n",
      "Requirement already satisfied: keras in /home/phmay/miniconda3/envs/py36/lib/python3.6/site-packages (from mltb==0.0.14) (2.2.4)\n",
      "Requirement already satisfied: matplotlib in /home/phmay/miniconda3/envs/py36/lib/python3.6/site-packages (from mltb==0.0.14) (3.0.2)\n",
      "Requirement already satisfied: tqdm in /home/phmay/miniconda3/envs/py36/lib/python3.6/site-packages (from mltb==0.0.14) (4.28.1)\n",
      "Requirement already satisfied: sklearn in /home/phmay/miniconda3/envs/py36/lib/python3.6/site-packages (from mltb==0.0.14) (0.0)\n",
      "Requirement already satisfied: h5py in /home/phmay/miniconda3/envs/py36/lib/python3.6/site-packages (from keras->mltb==0.0.14) (2.9.0)\n",
      "Requirement already satisfied: keras-applications>=1.0.6 in /home/phmay/miniconda3/envs/py36/lib/python3.6/site-packages (from keras->mltb==0.0.14) (1.0.6)\n",
      "Requirement already satisfied: six>=1.9.0 in /home/phmay/miniconda3/envs/py36/lib/python3.6/site-packages (from keras->mltb==0.0.14) (1.12.0)\n",
      "Requirement already satisfied: keras-preprocessing>=1.0.5 in /home/phmay/miniconda3/envs/py36/lib/python3.6/site-packages (from keras->mltb==0.0.14) (1.0.5)\n",
      "Requirement already satisfied: scipy>=0.14 in /home/phmay/miniconda3/envs/py36/lib/python3.6/site-packages (from keras->mltb==0.0.14) (1.2.0)\n",
      "Requirement already satisfied: pyyaml in /home/phmay/miniconda3/envs/py36/lib/python3.6/site-packages (from keras->mltb==0.0.14) (3.13)\n",
      "Requirement already satisfied: python-dateutil>=2.1 in /home/phmay/miniconda3/envs/py36/lib/python3.6/site-packages (from matplotlib->mltb==0.0.14) (2.7.5)\n",
      "Requirement already satisfied: kiwisolver>=1.0.1 in /home/phmay/miniconda3/envs/py36/lib/python3.6/site-packages (from matplotlib->mltb==0.0.14) (1.0.1)\n",
      "Requirement already satisfied: pyparsing!=2.0.4,!=2.1.2,!=2.1.6,>=2.0.1 in /home/phmay/miniconda3/envs/py36/lib/python3.6/site-packages (from matplotlib->mltb==0.0.14) (2.3.0)\n",
      "Requirement already satisfied: cycler>=0.10 in /home/phmay/miniconda3/envs/py36/lib/python3.6/site-packages (from matplotlib->mltb==0.0.14) (0.10.0)\n",
      "Requirement already satisfied: scikit-learn in /home/phmay/miniconda3/envs/py36/lib/python3.6/site-packages (from sklearn->mltb==0.0.14) (0.20.2)\n",
      "Requirement already satisfied: setuptools in /home/phmay/miniconda3/envs/py36/lib/python3.6/site-packages (from kiwisolver>=1.0.1->matplotlib->mltb==0.0.14) (40.6.3)\n"
     ]
    }
   ],
   "source": [
    "# load the mltb lib - see here: https://github.com/PhilipMay/mltb\n",
    "!pip install mltb==0.0.14"
   ]
  },
  {
   "cell_type": "code",
   "execution_count": 2,
   "metadata": {
    "colab": {
     "base_uri": "https://localhost:8080/",
     "height": 332
    },
    "colab_type": "code",
    "id": "yeZ2qSzGy600",
    "outputId": "37724a00-6b36-4c44-8a1e-057339d4e575"
   },
   "outputs": [
    {
     "name": "stderr",
     "output_type": "stream",
     "text": [
      "Using TensorFlow backend.\n"
     ]
    }
   ],
   "source": [
    "import mltb\n",
    "import numpy as np\n",
    "from keras.datasets import mnist\n",
    "from keras.utils import to_categorical\n",
    "from keras import models\n",
    "from keras import layers\n",
    "from keras.callbacks import EarlyStopping\n",
    "\n",
    "%matplotlib inline"
   ]
  },
  {
   "cell_type": "code",
   "execution_count": 3,
   "metadata": {
    "colab": {},
    "colab_type": "code",
    "id": "TCpiHwDWzBP9"
   },
   "outputs": [],
   "source": [
    "# load MNIST data\n",
    "(train_images, train_labels), (val_images, val_labels) = mnist.load_data()"
   ]
  },
  {
   "cell_type": "code",
   "execution_count": 4,
   "metadata": {
    "colab": {
     "base_uri": "https://localhost:8080/",
     "height": 86
    },
    "colab_type": "code",
    "id": "XsZCVOx1zEVw",
    "outputId": "a79713bd-fdb1-4384-fe5e-62117c9ed453"
   },
   "outputs": [
    {
     "name": "stdout",
     "output_type": "stream",
     "text": [
      "train_images.shape: (60000, 28, 28)\n",
      "train_labels.shape: (60000,)\n",
      "val_images.shape: (10000, 28, 28)\n",
      "val_labels.shape: (10000,)\n"
     ]
    }
   ],
   "source": [
    "# show shape of data\n",
    "print(\"train_images.shape:\", train_images.shape)\n",
    "print(\"train_labels.shape:\", train_labels.shape)\n",
    "print(\"val_images.shape:\", val_images.shape)\n",
    "print(\"val_labels.shape:\", val_labels.shape)"
   ]
  },
  {
   "cell_type": "code",
   "execution_count": 5,
   "metadata": {},
   "outputs": [],
   "source": [
    "# one hot encode the labels\n",
    "train_labels = to_categorical(train_labels)\n",
    "val_labels = to_categorical(val_labels)"
   ]
  },
  {
   "cell_type": "code",
   "execution_count": 6,
   "metadata": {},
   "outputs": [],
   "source": [
    "# normalization (min-max scaling) to 0 to 1\n",
    "train_images = train_images.reshape((60000, 28, 28, 1))\n",
    "train_images = train_images.astype('float32') / 255\n",
    "\n",
    "val_images = val_images.reshape((10000, 28, 28, 1))\n",
    "val_images = val_images.astype('float32') / 255"
   ]
  },
  {
   "cell_type": "code",
   "execution_count": 7,
   "metadata": {
    "colab": {},
    "colab_type": "code",
    "id": "0pBVVRzZ1CVA"
   },
   "outputs": [],
   "source": [
    "#network without BatchNormalization\n",
    "def network_a():\n",
    "    network = models.Sequential()\n",
    "    network.add(layers.Conv2D(32, kernel_size=(3, 3), input_shape=(28, 28, 1)))\n",
    "    network.add(layers.Activation('relu'))    \n",
    "    network.add(layers.Conv2D(64, (3, 3)))\n",
    "    network.add(layers.Activation('relu'))        \n",
    "    network.add(layers.MaxPooling2D(pool_size=(2, 2)))\n",
    "    network.add(layers.Dropout(0.25))\n",
    "    network.add(layers.Flatten())\n",
    "    network.add(layers.Dense(128))\n",
    "    network.add(layers.Activation('relu'))\n",
    "    network.add(layers.Dropout(0.5))\n",
    "    network.add(layers.Dense(10, activation='softmax'))\n",
    "    return network\n"
   ]
  },
  {
   "cell_type": "code",
   "execution_count": 8,
   "metadata": {},
   "outputs": [],
   "source": [
    "#network with BatchNormalization\n",
    "def network_b():\n",
    "    network = models.Sequential()\n",
    "    network.add(layers.Conv2D(32, kernel_size=(3, 3), input_shape=(28, 28, 1)))\n",
    "    network.add(layers.BatchNormalization())\n",
    "    network.add(layers.Activation('relu'))    \n",
    "    network.add(layers.Conv2D(64, (3, 3)))\n",
    "    network.add(layers.BatchNormalization())\n",
    "    network.add(layers.Activation('relu'))        \n",
    "    network.add(layers.MaxPooling2D(pool_size=(2, 2)))\n",
    "    network.add(layers.Dropout(0.25))\n",
    "    network.add(layers.Flatten())\n",
    "    network.add(layers.Dense(128))\n",
    "    network.add(layers.BatchNormalization())\n",
    "    network.add(layers.Activation('relu'))\n",
    "    network.add(layers.Dropout(0.5))\n",
    "    network.add(layers.Dense(10, activation='softmax'))\n",
    "    return network    \n"
   ]
  },
  {
   "cell_type": "code",
   "execution_count": 9,
   "metadata": {},
   "outputs": [
    {
     "name": "stdout",
     "output_type": "stream",
     "text": [
      "_________________________________________________________________\n",
      "Layer (type)                 Output Shape              Param #   \n",
      "=================================================================\n",
      "conv2d_1 (Conv2D)            (None, 26, 26, 32)        320       \n",
      "_________________________________________________________________\n",
      "activation_1 (Activation)    (None, 26, 26, 32)        0         \n",
      "_________________________________________________________________\n",
      "conv2d_2 (Conv2D)            (None, 24, 24, 64)        18496     \n",
      "_________________________________________________________________\n",
      "activation_2 (Activation)    (None, 24, 24, 64)        0         \n",
      "_________________________________________________________________\n",
      "max_pooling2d_1 (MaxPooling2 (None, 12, 12, 64)        0         \n",
      "_________________________________________________________________\n",
      "dropout_1 (Dropout)          (None, 12, 12, 64)        0         \n",
      "_________________________________________________________________\n",
      "flatten_1 (Flatten)          (None, 9216)              0         \n",
      "_________________________________________________________________\n",
      "dense_1 (Dense)              (None, 128)               1179776   \n",
      "_________________________________________________________________\n",
      "activation_3 (Activation)    (None, 128)               0         \n",
      "_________________________________________________________________\n",
      "dropout_2 (Dropout)          (None, 128)               0         \n",
      "_________________________________________________________________\n",
      "dense_2 (Dense)              (None, 10)                1290      \n",
      "=================================================================\n",
      "Total params: 1,199,882\n",
      "Trainable params: 1,199,882\n",
      "Non-trainable params: 0\n",
      "_________________________________________________________________\n"
     ]
    }
   ],
   "source": [
    "# print summary representation of network a\n",
    "network_a().summary()"
   ]
  },
  {
   "cell_type": "code",
   "execution_count": 10,
   "metadata": {},
   "outputs": [
    {
     "name": "stdout",
     "output_type": "stream",
     "text": [
      "_________________________________________________________________\n",
      "Layer (type)                 Output Shape              Param #   \n",
      "=================================================================\n",
      "conv2d_3 (Conv2D)            (None, 26, 26, 32)        320       \n",
      "_________________________________________________________________\n",
      "batch_normalization_1 (Batch (None, 26, 26, 32)        128       \n",
      "_________________________________________________________________\n",
      "activation_4 (Activation)    (None, 26, 26, 32)        0         \n",
      "_________________________________________________________________\n",
      "conv2d_4 (Conv2D)            (None, 24, 24, 64)        18496     \n",
      "_________________________________________________________________\n",
      "batch_normalization_2 (Batch (None, 24, 24, 64)        256       \n",
      "_________________________________________________________________\n",
      "activation_5 (Activation)    (None, 24, 24, 64)        0         \n",
      "_________________________________________________________________\n",
      "max_pooling2d_2 (MaxPooling2 (None, 12, 12, 64)        0         \n",
      "_________________________________________________________________\n",
      "dropout_3 (Dropout)          (None, 12, 12, 64)        0         \n",
      "_________________________________________________________________\n",
      "flatten_2 (Flatten)          (None, 9216)              0         \n",
      "_________________________________________________________________\n",
      "dense_3 (Dense)              (None, 128)               1179776   \n",
      "_________________________________________________________________\n",
      "batch_normalization_3 (Batch (None, 128)               512       \n",
      "_________________________________________________________________\n",
      "activation_6 (Activation)    (None, 128)               0         \n",
      "_________________________________________________________________\n",
      "dropout_4 (Dropout)          (None, 128)               0         \n",
      "_________________________________________________________________\n",
      "dense_4 (Dense)              (None, 10)                1290      \n",
      "=================================================================\n",
      "Total params: 1,200,778\n",
      "Trainable params: 1,200,330\n",
      "Non-trainable params: 448\n",
      "_________________________________________________________________\n"
     ]
    }
   ],
   "source": [
    "# print summary representation of network b\n",
    "network_b().summary()"
   ]
  },
  {
   "cell_type": "code",
   "execution_count": 11,
   "metadata": {},
   "outputs": [],
   "source": [
    "# create the different networks, fit them and return results\n",
    "def fit(value):\n",
    "    network = None\n",
    "    \n",
    "    if value == 'a':\n",
    "        network = network_a()\n",
    "    if value == 'b':\n",
    "        network = network_b()\n",
    "        \n",
    "    network.compile(optimizer='adam',\n",
    "                loss='categorical_crossentropy',\n",
    "                metrics=['accuracy'])\n",
    " \n",
    "    es = EarlyStopping(monitor='val_acc', patience=5, mode='max')\n",
    "    \n",
    "    history = network.fit(train_images, train_labels, \n",
    "                          validation_data=(val_images, val_labels), \n",
    "                          epochs=100, \n",
    "                          callbacks=[es],\n",
    "                          verbose=0,\n",
    "                          batch_size=128)\n",
    "    \n",
    "    best_val_acc = max(history.history['val_acc'])\n",
    "    \n",
    "    best_val_acc_epoch = history.history['val_acc'].index(best_val_acc) + 1\n",
    "    \n",
    "    return {'best_val_acc' : best_val_acc, 'best_val_acc_epoch' : best_val_acc_epoch}"
   ]
  },
  {
   "cell_type": "code",
   "execution_count": 12,
   "metadata": {
    "colab": {
     "base_uri": "https://localhost:8080/",
     "height": 2816
    },
    "colab_type": "code",
    "id": "ysDBwTkk2IyV",
    "outputId": "2bdc5c9a-aeb9-4a30-9fc0-a8b01e6758c6"
   },
   "outputs": [
    {
     "name": "stdout",
     "output_type": "stream",
     "text": [
      "Done with CNN + RELU                                \n",
      "Done with CNN + RELU + BN                           \n",
      "100%|██████████| 82/82 [3:14:19<00:00, 155.74s/it]\n"
     ]
    }
   ],
   "source": [
    "# dict with call params\n",
    "param_dict = {'CNN + RELU' : 'a', \n",
    "              'CNN + RELU + BN' : 'b', \n",
    "             }\n",
    "\n",
    "# fit the networks many times and return the result\n",
    "# see here: https://github.com/PhilipMay/mltb/blob/master/mltb/tools.py\n",
    "result = mltb.tools.multi_param_call(fit, param_dict, 41)"
   ]
  },
  {
   "cell_type": "code",
   "execution_count": 13,
   "metadata": {},
   "outputs": [
    {
     "name": "stdout",
     "output_type": "stream",
     "text": [
      "{'best_val_acc': {'CNN + RELU': [0.9935, 0.9933, 0.9927, 0.9923, 0.9931, 0.9941, 0.9918, 0.9928, 0.993, 0.9927, 0.993, 0.9931, 0.9934, 0.9918, 0.993, 0.992, 0.9935, 0.9925, 0.9929, 0.993, 0.9929, 0.9929, 0.9934, 0.9937, 0.9931, 0.9925, 0.9936, 0.9932, 0.9933, 0.9929, 0.9929, 0.9931, 0.9945, 0.9935, 0.9926, 0.9916, 0.9935, 0.9924, 0.9923, 0.992, 0.9927], 'CNN + RELU + BN': [0.9933, 0.9917, 0.9935, 0.9929, 0.9931, 0.9929, 0.9925, 0.9937, 0.9924, 0.993, 0.993, 0.992, 0.9927, 0.9917, 0.9929, 0.9923, 0.9918, 0.9929, 0.9929, 0.9923, 0.9929, 0.9921, 0.9936, 0.9929, 0.9922, 0.9929, 0.9936, 0.9925, 0.9926, 0.9933, 0.9917, 0.9926, 0.9919, 0.9924, 0.9943, 0.9925, 0.9932, 0.9928, 0.9929, 0.9923, 0.9923]}, 'best_val_acc_epoch': {'CNN + RELU': [16, 23, 16, 7, 13, 18, 8, 12, 10, 10, 13, 20, 17, 4, 11, 6, 26, 12, 18, 15, 12, 12, 15, 13, 12, 17, 19, 16, 19, 14, 17, 14, 22, 16, 11, 6, 20, 12, 10, 8, 11], 'CNN + RELU + BN': [13, 8, 23, 18, 16, 16, 12, 23, 14, 19, 10, 8, 14, 7, 11, 19, 12, 15, 18, 8, 7, 8, 21, 20, 10, 17, 9, 8, 13, 10, 5, 11, 5, 11, 14, 10, 8, 12, 10, 6, 10]}}\n"
     ]
    }
   ],
   "source": [
    "#print the result\n",
    "print(result)"
   ]
  },
  {
   "cell_type": "code",
   "execution_count": 14,
   "metadata": {
    "colab": {
     "base_uri": "https://localhost:8080/",
     "height": 402
    },
    "colab_type": "code",
    "id": "Vys6lw-_2NXC",
    "outputId": "223e34ab-078b-4a64-c9e9-e40451fb228c"
   },
   "outputs": [
    {
     "data": {
      "image/png": "[encoded data removed]",
      "text/plain": [
       "<Figure size 432x288 with 1 Axes>"
      ]
     },
     "metadata": {
      "needs_background": "light"
     },
     "output_type": "display_data"
    }
   ],
   "source": [
    "# print boxplots to compare validation accuracy\n",
    "# see here: https://github.com/PhilipMay/mltb/blob/master/mltb/plot.py\n",
    "mltb.plot.boxplot_dict(result['best_val_acc'], \n",
    "                       ylabel='Validation accuracy', \n",
    "                       title='Boxplots of validation accuracy'\n",
    "                      )"
   ]
  },
  {
   "cell_type": "code",
   "execution_count": 15,
   "metadata": {
    "colab": {},
    "colab_type": "code",
    "id": "m55_HILCwR6i"
   },
   "outputs": [
    {
     "name": "stdout",
     "output_type": "stream",
     "text": [
      "p-value for best_val_acc: {('CNN + RELU', 'CNN + RELU + BN'): 0.09839389961544603}\n"
     ]
    }
   ],
   "source": [
    "# p-value for validation accuracy - can we reject the null hypothesis?\n",
    "# see here: https://github.com/PhilipMay/mltb/blob/master/mltb/tools.py\n",
    "print('p-value for best_val_acc:', mltb.tools.ttest_combinations(result['best_val_acc']))"
   ]
  },
  {
   "cell_type": "code",
   "execution_count": 16,
   "metadata": {},
   "outputs": [
    {
     "data": {
      "image/png": "[encoded data removed]",
      "text/plain": [
       "<Figure size 432x288 with 1 Axes>"
      ]
     },
     "metadata": {
      "needs_background": "light"
     },
     "output_type": "display_data"
    }
   ],
   "source": [
    "# print boxplots to compare wich epoch had the best validation accuracy (how fast the network learns)\n",
    "# see here: https://github.com/PhilipMay/mltb/blob/master/mltb/plot.py\n",
    "mltb.plot.boxplot_dict(result['best_val_acc_epoch'], \n",
    "                       ylabel='Best validation accuracy epoch number', \n",
    "                       title='Boxplots of best validation accuracy epoch (how fast the network learns)'\n",
    "                      )"
   ]
  },
  {
   "cell_type": "code",
   "execution_count": 17,
   "metadata": {},
   "outputs": [
    {
     "name": "stdout",
     "output_type": "stream",
     "text": [
      "p-value for best_val_acc_epoch: {('CNN + RELU', 'CNN + RELU + BN'): 0.16223821476302605}\n"
     ]
    }
   ],
   "source": [
    "# p-value for best validation accuracy epoch - can we reject the null hypothesis?\n",
    "# see here: https://github.com/PhilipMay/mltb/blob/master/mltb/tools.py\n",
    "print('p-value for best_val_acc_epoch:', mltb.tools.ttest_combinations(result['best_val_acc_epoch']))"
   ]
  }
 ],
 "metadata": {
  "accelerator": "GPU",
  "colab": {
   "collapsed_sections": [],
   "name": "scaling+relu.ipynb",
   "provenance": [],
   "version": "0.3.2"
  },
  "kernelspec": {
   "display_name": "Python 3",
   "language": "python",
   "name": "python3"
  },
  "language_info": {
   "codemirror_mode": {
    "name": "ipython",
    "version": 3
   },
   "file_extension": ".py",
   "mimetype": "text/x-python",
   "name": "python",
   "nbconvert_exporter": "python",
   "pygments_lexer": "ipython3",
   "version": "3.6.8"
  }
 },
 "nbformat": 4,
 "nbformat_minor": 1
}
