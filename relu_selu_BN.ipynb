{
 "cells": [
  {
   "cell_type": "markdown",
   "metadata": {},
   "source": [
    "# Experiment to compare RELU, SELU and Batch Normalization.\n",
    "SELU needs lecun_normal kernel initializer to work. RELU is testet with default (glorot_uniform) and also lecun_normal kernel initializer. Batch Normalization is using RELU with default (glorot_uniform) kernel initializer and without bias (use_bias=False)."
   ]
  },
  {
   "cell_type": "code",
   "execution_count": 1,
   "metadata": {},
   "outputs": [
    {
     "name": "stdout",
     "output_type": "stream",
     "text": [
      "Requirement already satisfied: mltb==0.0.10 in /usr/local/miniconda3/envs/py36/lib/python3.6/site-packages (0.0.10)\n",
      "Requirement already satisfied: numpy in /usr/local/miniconda3/envs/py36/lib/python3.6/site-packages (from mltb==0.0.10) (1.15.2)\n",
      "Requirement already satisfied: keras in /usr/local/miniconda3/envs/py36/lib/python3.6/site-packages (from mltb==0.0.10) (2.2.4)\n",
      "Requirement already satisfied: matplotlib in /usr/local/miniconda3/envs/py36/lib/python3.6/site-packages (from mltb==0.0.10) (3.0.1)\n",
      "Requirement already satisfied: sklearn in /usr/local/miniconda3/envs/py36/lib/python3.6/site-packages (from mltb==0.0.10) (0.0)\n",
      "Requirement already satisfied: six>=1.9.0 in /usr/local/miniconda3/envs/py36/lib/python3.6/site-packages (from keras->mltb==0.0.10) (1.11.0)\n",
      "Requirement already satisfied: scipy>=0.14 in /usr/local/miniconda3/envs/py36/lib/python3.6/site-packages (from keras->mltb==0.0.10) (1.1.0)\n",
      "Requirement already satisfied: keras-preprocessing>=1.0.5 in /usr/local/miniconda3/envs/py36/lib/python3.6/site-packages (from keras->mltb==0.0.10) (1.0.5)\n",
      "Requirement already satisfied: pyyaml in /usr/local/miniconda3/envs/py36/lib/python3.6/site-packages (from keras->mltb==0.0.10) (3.13)\n",
      "Requirement already satisfied: keras-applications>=1.0.6 in /usr/local/miniconda3/envs/py36/lib/python3.6/site-packages (from keras->mltb==0.0.10) (1.0.6)\n",
      "Requirement already satisfied: h5py in /usr/local/miniconda3/envs/py36/lib/python3.6/site-packages (from keras->mltb==0.0.10) (2.8.0)\n",
      "Requirement already satisfied: kiwisolver>=1.0.1 in /usr/local/miniconda3/envs/py36/lib/python3.6/site-packages (from matplotlib->mltb==0.0.10) (1.0.1)\n",
      "Requirement already satisfied: cycler>=0.10 in /usr/local/miniconda3/envs/py36/lib/python3.6/site-packages (from matplotlib->mltb==0.0.10) (0.10.0)\n",
      "Requirement already satisfied: python-dateutil>=2.1 in /usr/local/miniconda3/envs/py36/lib/python3.6/site-packages (from matplotlib->mltb==0.0.10) (2.7.5)\n",
      "Requirement already satisfied: pyparsing!=2.0.4,!=2.1.2,!=2.1.6,>=2.0.1 in /usr/local/miniconda3/envs/py36/lib/python3.6/site-packages (from matplotlib->mltb==0.0.10) (2.3.0)\n",
      "Requirement already satisfied: scikit-learn in /usr/local/miniconda3/envs/py36/lib/python3.6/site-packages (from sklearn->mltb==0.0.10) (0.20.0)\n",
      "Requirement already satisfied: setuptools in /usr/local/miniconda3/envs/py36/lib/python3.6/site-packages (from kiwisolver>=1.0.1->matplotlib->mltb==0.0.10) (39.1.0)\n"
     ]
    }
   ],
   "source": [
    "# load the mltb lib - see here: https://github.com/PhilipMay/mltb\n",
    "!pip install mltb==0.0.10"
   ]
  },
  {
   "cell_type": "code",
   "execution_count": 2,
   "metadata": {
    "colab": {
     "base_uri": "https://localhost:8080/",
     "height": 332
    },
    "colab_type": "code",
    "id": "yeZ2qSzGy600",
    "outputId": "37724a00-6b36-4c44-8a1e-057339d4e575"
   },
   "outputs": [
    {
     "name": "stderr",
     "output_type": "stream",
     "text": [
      "Using TensorFlow backend.\n"
     ]
    }
   ],
   "source": [
    "import mltb\n",
    "import numpy as np\n",
    "from keras.datasets import mnist\n",
    "from keras.utils import to_categorical\n",
    "from keras import models\n",
    "from keras import layers\n",
    "from keras.callbacks import EarlyStopping\n",
    "\n",
    "%matplotlib inline"
   ]
  },
  {
   "cell_type": "code",
   "execution_count": 3,
   "metadata": {
    "colab": {},
    "colab_type": "code",
    "id": "TCpiHwDWzBP9"
   },
   "outputs": [],
   "source": [
    "# load MNIST data\n",
    "(train_images, train_labels), (val_images, val_labels) = mnist.load_data()"
   ]
  },
  {
   "cell_type": "code",
   "execution_count": 4,
   "metadata": {
    "colab": {
     "base_uri": "https://localhost:8080/",
     "height": 86
    },
    "colab_type": "code",
    "id": "XsZCVOx1zEVw",
    "outputId": "a79713bd-fdb1-4384-fe5e-62117c9ed453"
   },
   "outputs": [
    {
     "name": "stdout",
     "output_type": "stream",
     "text": [
      "train_images.shape: (60000, 28, 28)\n",
      "train_labels.shape: (60000,)\n",
      "val_images.shape: (10000, 28, 28)\n",
      "val_labels.shape: (10000,)\n"
     ]
    }
   ],
   "source": [
    "# show shape of data\n",
    "print(\"train_images.shape:\", train_images.shape)\n",
    "print(\"train_labels.shape:\", train_labels.shape)\n",
    "print(\"val_images.shape:\", val_images.shape)\n",
    "print(\"val_labels.shape:\", val_labels.shape)"
   ]
  },
  {
   "cell_type": "code",
   "execution_count": 5,
   "metadata": {},
   "outputs": [],
   "source": [
    "# one hot encode the labels\n",
    "train_labels = to_categorical(train_labels)\n",
    "val_labels = to_categorical(val_labels)"
   ]
  },
  {
   "cell_type": "code",
   "execution_count": 6,
   "metadata": {},
   "outputs": [],
   "source": [
    "# flatten the data so we can send it to dense layer\n",
    "train_images = train_images.reshape((60000, 28 * 28))\n",
    "val_images = val_images.reshape((10000, 28 * 28))"
   ]
  },
  {
   "cell_type": "code",
   "execution_count": 7,
   "metadata": {},
   "outputs": [],
   "source": [
    "# normalization (min-max scaling) to 0 to 1\n",
    "train_images = train_images.astype('float32') / 255\n",
    "val_images = val_images.astype('float32') / 255"
   ]
  },
  {
   "cell_type": "code",
   "execution_count": 8,
   "metadata": {},
   "outputs": [],
   "source": [
    "#network with RELU and default kernel initializer\n",
    "def network_a():\n",
    "    network = models.Sequential()\n",
    "    network.add(layers.Dense(100, input_shape=(28 * 28,)))\n",
    "    network.add(layers.Activation('relu'))\n",
    "    network.add(layers.Dense(100))\n",
    "    network.add(layers.Activation('relu')) \n",
    "    network.add(layers.Dense(100))\n",
    "    network.add(layers.Activation('relu'))\n",
    "    network.add(layers.Dense(10, activation='softmax'))\n",
    "    return network"
   ]
  },
  {
   "cell_type": "code",
   "execution_count": 9,
   "metadata": {
    "colab": {},
    "colab_type": "code",
    "id": "0pBVVRzZ1CVA"
   },
   "outputs": [],
   "source": [
    "#network with RELU and lecun_normal kernel initializer\n",
    "def network_b():\n",
    "    network = models.Sequential()\n",
    "    network.add(layers.Dense(100, kernel_initializer='lecun_normal', input_shape=(28 * 28,)))\n",
    "    network.add(layers.Activation('relu'))\n",
    "    network.add(layers.Dense(100, kernel_initializer='lecun_normal'))\n",
    "    network.add(layers.Activation('relu')) \n",
    "    network.add(layers.Dense(100, kernel_initializer='lecun_normal'))\n",
    "    network.add(layers.Activation('relu'))\n",
    "    network.add(layers.Dense(10, kernel_initializer='lecun_normal', activation='softmax'))\n",
    "    return network"
   ]
  },
  {
   "cell_type": "code",
   "execution_count": 10,
   "metadata": {},
   "outputs": [],
   "source": [
    "#network with SELU and lecun_normal kernel initializer\n",
    "def network_c():\n",
    "    network = models.Sequential()\n",
    "    network.add(layers.Dense(100, kernel_initializer='lecun_normal', input_shape=(28 * 28,)))\n",
    "    network.add(layers.Activation('selu'))\n",
    "    network.add(layers.Dense(100, kernel_initializer='lecun_normal'))\n",
    "    network.add(layers.Activation('selu')) \n",
    "    network.add(layers.Dense(100, kernel_initializer='lecun_normal'))\n",
    "    network.add(layers.Activation('selu'))\n",
    "    network.add(layers.Dense(10, kernel_initializer='lecun_normal', activation='softmax'))\n",
    "    return network"
   ]
  },
  {
   "cell_type": "code",
   "execution_count": 11,
   "metadata": {},
   "outputs": [],
   "source": [
    "#network with BatchNormalization and without bias (use_bias=False)\n",
    "def network_d():\n",
    "    network = models.Sequential()\n",
    "    network.add(layers.Dense(100, use_bias=False, input_shape=(28 * 28,)))\n",
    "    network.add(layers.BatchNormalization())\n",
    "    network.add(layers.Activation('relu'))\n",
    "    network.add(layers.Dense(100, use_bias=False))\n",
    "    network.add(layers.BatchNormalization())\n",
    "    network.add(layers.Activation('relu')) \n",
    "    network.add(layers.Dense(100, use_bias=False))\n",
    "    network.add(layers.BatchNormalization())\n",
    "    network.add(layers.Activation('relu'))\n",
    "    network.add(layers.Dense(10, activation='softmax'))\n",
    "    return network"
   ]
  },
  {
   "cell_type": "code",
   "execution_count": 12,
   "metadata": {},
   "outputs": [
    {
     "name": "stdout",
     "output_type": "stream",
     "text": [
      "_________________________________________________________________\n",
      "Layer (type)                 Output Shape              Param #   \n",
      "=================================================================\n",
      "dense_1 (Dense)              (None, 100)               78500     \n",
      "_________________________________________________________________\n",
      "activation_1 (Activation)    (None, 100)               0         \n",
      "_________________________________________________________________\n",
      "dense_2 (Dense)              (None, 100)               10100     \n",
      "_________________________________________________________________\n",
      "activation_2 (Activation)    (None, 100)               0         \n",
      "_________________________________________________________________\n",
      "dense_3 (Dense)              (None, 100)               10100     \n",
      "_________________________________________________________________\n",
      "activation_3 (Activation)    (None, 100)               0         \n",
      "_________________________________________________________________\n",
      "dense_4 (Dense)              (None, 10)                1010      \n",
      "=================================================================\n",
      "Total params: 99,710\n",
      "Trainable params: 99,710\n",
      "Non-trainable params: 0\n",
      "_________________________________________________________________\n"
     ]
    }
   ],
   "source": [
    "# print summary representation of network a\n",
    "network_a().summary()"
   ]
  },
  {
   "cell_type": "code",
   "execution_count": 13,
   "metadata": {},
   "outputs": [
    {
     "name": "stdout",
     "output_type": "stream",
     "text": [
      "_________________________________________________________________\n",
      "Layer (type)                 Output Shape              Param #   \n",
      "=================================================================\n",
      "dense_5 (Dense)              (None, 100)               78500     \n",
      "_________________________________________________________________\n",
      "activation_4 (Activation)    (None, 100)               0         \n",
      "_________________________________________________________________\n",
      "dense_6 (Dense)              (None, 100)               10100     \n",
      "_________________________________________________________________\n",
      "activation_5 (Activation)    (None, 100)               0         \n",
      "_________________________________________________________________\n",
      "dense_7 (Dense)              (None, 100)               10100     \n",
      "_________________________________________________________________\n",
      "activation_6 (Activation)    (None, 100)               0         \n",
      "_________________________________________________________________\n",
      "dense_8 (Dense)              (None, 10)                1010      \n",
      "=================================================================\n",
      "Total params: 99,710\n",
      "Trainable params: 99,710\n",
      "Non-trainable params: 0\n",
      "_________________________________________________________________\n"
     ]
    }
   ],
   "source": [
    "# print summary representation of network b\n",
    "network_b().summary()"
   ]
  },
  {
   "cell_type": "code",
   "execution_count": 14,
   "metadata": {},
   "outputs": [
    {
     "name": "stdout",
     "output_type": "stream",
     "text": [
      "_________________________________________________________________\n",
      "Layer (type)                 Output Shape              Param #   \n",
      "=================================================================\n",
      "dense_9 (Dense)              (None, 100)               78500     \n",
      "_________________________________________________________________\n",
      "activation_7 (Activation)    (None, 100)               0         \n",
      "_________________________________________________________________\n",
      "dense_10 (Dense)             (None, 100)               10100     \n",
      "_________________________________________________________________\n",
      "activation_8 (Activation)    (None, 100)               0         \n",
      "_________________________________________________________________\n",
      "dense_11 (Dense)             (None, 100)               10100     \n",
      "_________________________________________________________________\n",
      "activation_9 (Activation)    (None, 100)               0         \n",
      "_________________________________________________________________\n",
      "dense_12 (Dense)             (None, 10)                1010      \n",
      "=================================================================\n",
      "Total params: 99,710\n",
      "Trainable params: 99,710\n",
      "Non-trainable params: 0\n",
      "_________________________________________________________________\n"
     ]
    }
   ],
   "source": [
    "# print summary representation of network c\n",
    "network_c().summary()"
   ]
  },
  {
   "cell_type": "code",
   "execution_count": 15,
   "metadata": {},
   "outputs": [
    {
     "name": "stdout",
     "output_type": "stream",
     "text": [
      "_________________________________________________________________\n",
      "Layer (type)                 Output Shape              Param #   \n",
      "=================================================================\n",
      "dense_13 (Dense)             (None, 100)               78400     \n",
      "_________________________________________________________________\n",
      "batch_normalization_1 (Batch (None, 100)               400       \n",
      "_________________________________________________________________\n",
      "activation_10 (Activation)   (None, 100)               0         \n",
      "_________________________________________________________________\n",
      "dense_14 (Dense)             (None, 100)               10000     \n",
      "_________________________________________________________________\n",
      "batch_normalization_2 (Batch (None, 100)               400       \n",
      "_________________________________________________________________\n",
      "activation_11 (Activation)   (None, 100)               0         \n",
      "_________________________________________________________________\n",
      "dense_15 (Dense)             (None, 100)               10000     \n",
      "_________________________________________________________________\n",
      "batch_normalization_3 (Batch (None, 100)               400       \n",
      "_________________________________________________________________\n",
      "activation_12 (Activation)   (None, 100)               0         \n",
      "_________________________________________________________________\n",
      "dense_16 (Dense)             (None, 10)                1010      \n",
      "=================================================================\n",
      "Total params: 100,610\n",
      "Trainable params: 100,010\n",
      "Non-trainable params: 600\n",
      "_________________________________________________________________\n"
     ]
    }
   ],
   "source": [
    "# print summary representation of network d\n",
    "network_d().summary()"
   ]
  },
  {
   "cell_type": "code",
   "execution_count": 16,
   "metadata": {},
   "outputs": [],
   "source": [
    "# create the different networks, fit them and return results\n",
    "def fit(value):\n",
    "    network = None\n",
    "    \n",
    "    if value == 'a':\n",
    "        network = network_a()\n",
    "    if value == 'b':\n",
    "        network = network_b()\n",
    "    if value == 'c':\n",
    "        network = network_c()\n",
    "    if value == 'd':\n",
    "        network = network_d()\n",
    "        \n",
    "    network.compile(optimizer='adam',\n",
    "                loss='categorical_crossentropy',\n",
    "                metrics=['accuracy'])\n",
    " \n",
    "    es = EarlyStopping(monitor='val_acc', patience=5, mode='max')\n",
    "    \n",
    "    history = network.fit(train_images, train_labels, \n",
    "                          validation_data=(val_images, val_labels), \n",
    "                          epochs=100, \n",
    "                          callbacks=[es],\n",
    "                          verbose=0,\n",
    "                          batch_size=128)\n",
    "    \n",
    "    best_val_acc = max(history.history['val_acc'])\n",
    "    \n",
    "    best_val_acc_epoch = history.history['val_acc'].index(best_val_acc) + 1\n",
    "    \n",
    "    return {'best_val_acc' : best_val_acc, 'best_val_acc_epoch' : best_val_acc_epoch}"
   ]
  },
  {
   "cell_type": "code",
   "execution_count": 17,
   "metadata": {
    "colab": {
     "base_uri": "https://localhost:8080/",
     "height": 2816
    },
    "colab_type": "code",
    "id": "ysDBwTkk2IyV",
    "outputId": "2bdc5c9a-aeb9-4a30-9fc0-a8b01e6758c6"
   },
   "outputs": [
    {
     "name": "stdout",
     "output_type": "stream",
     "text": [
      "Done with RELU def. init - iteration 1 of 31.\n",
      "Done with RELU def. init - iteration 2 of 31.\n",
      "Done with RELU def. init - iteration 3 of 31.\n",
      "Done with RELU def. init - iteration 4 of 31.\n",
      "Done with RELU def. init - iteration 5 of 31.\n",
      "Done with RELU def. init - iteration 6 of 31.\n",
      "Done with RELU def. init - iteration 7 of 31.\n",
      "Done with RELU def. init - iteration 8 of 31.\n",
      "Done with RELU def. init - iteration 9 of 31.\n",
      "Done with RELU def. init - iteration 10 of 31.\n",
      "Done with RELU def. init - iteration 11 of 31.\n",
      "Done with RELU def. init - iteration 12 of 31.\n",
      "Done with RELU def. init - iteration 13 of 31.\n",
      "Done with RELU def. init - iteration 14 of 31.\n",
      "Done with RELU def. init - iteration 15 of 31.\n",
      "Done with RELU def. init - iteration 16 of 31.\n",
      "Done with RELU def. init - iteration 17 of 31.\n",
      "Done with RELU def. init - iteration 18 of 31.\n",
      "Done with RELU def. init - iteration 19 of 31.\n",
      "Done with RELU def. init - iteration 20 of 31.\n",
      "Done with RELU def. init - iteration 21 of 31.\n",
      "Done with RELU def. init - iteration 22 of 31.\n",
      "Done with RELU def. init - iteration 23 of 31.\n",
      "Done with RELU def. init - iteration 24 of 31.\n",
      "Done with RELU def. init - iteration 25 of 31.\n",
      "Done with RELU def. init - iteration 26 of 31.\n",
      "Done with RELU def. init - iteration 27 of 31.\n",
      "Done with RELU def. init - iteration 28 of 31.\n",
      "Done with RELU def. init - iteration 29 of 31.\n",
      "Done with RELU def. init - iteration 30 of 31.\n",
      "Done with RELU def. init - iteration 31 of 31.\n",
      "Done with RELU LN init - iteration 1 of 31.\n",
      "Done with RELU LN init - iteration 2 of 31.\n",
      "Done with RELU LN init - iteration 3 of 31.\n",
      "Done with RELU LN init - iteration 4 of 31.\n",
      "Done with RELU LN init - iteration 5 of 31.\n",
      "Done with RELU LN init - iteration 6 of 31.\n",
      "Done with RELU LN init - iteration 7 of 31.\n",
      "Done with RELU LN init - iteration 8 of 31.\n",
      "Done with RELU LN init - iteration 9 of 31.\n",
      "Done with RELU LN init - iteration 10 of 31.\n",
      "Done with RELU LN init - iteration 11 of 31.\n",
      "Done with RELU LN init - iteration 12 of 31.\n",
      "Done with RELU LN init - iteration 13 of 31.\n",
      "Done with RELU LN init - iteration 14 of 31.\n",
      "Done with RELU LN init - iteration 15 of 31.\n",
      "Done with RELU LN init - iteration 16 of 31.\n",
      "Done with RELU LN init - iteration 17 of 31.\n",
      "Done with RELU LN init - iteration 18 of 31.\n",
      "Done with RELU LN init - iteration 19 of 31.\n",
      "Done with RELU LN init - iteration 20 of 31.\n",
      "Done with RELU LN init - iteration 21 of 31.\n",
      "Done with RELU LN init - iteration 22 of 31.\n",
      "Done with RELU LN init - iteration 23 of 31.\n",
      "Done with RELU LN init - iteration 24 of 31.\n",
      "Done with RELU LN init - iteration 25 of 31.\n",
      "Done with RELU LN init - iteration 26 of 31.\n",
      "Done with RELU LN init - iteration 27 of 31.\n",
      "Done with RELU LN init - iteration 28 of 31.\n",
      "Done with RELU LN init - iteration 29 of 31.\n",
      "Done with RELU LN init - iteration 30 of 31.\n",
      "Done with RELU LN init - iteration 31 of 31.\n",
      "Done with SELU LN init - iteration 1 of 31.\n",
      "Done with SELU LN init - iteration 2 of 31.\n",
      "Done with SELU LN init - iteration 3 of 31.\n",
      "Done with SELU LN init - iteration 4 of 31.\n",
      "Done with SELU LN init - iteration 5 of 31.\n",
      "Done with SELU LN init - iteration 6 of 31.\n",
      "Done with SELU LN init - iteration 7 of 31.\n",
      "Done with SELU LN init - iteration 8 of 31.\n",
      "Done with SELU LN init - iteration 9 of 31.\n",
      "Done with SELU LN init - iteration 10 of 31.\n",
      "Done with SELU LN init - iteration 11 of 31.\n",
      "Done with SELU LN init - iteration 12 of 31.\n",
      "Done with SELU LN init - iteration 13 of 31.\n",
      "Done with SELU LN init - iteration 14 of 31.\n",
      "Done with SELU LN init - iteration 15 of 31.\n",
      "Done with SELU LN init - iteration 16 of 31.\n",
      "Done with SELU LN init - iteration 17 of 31.\n",
      "Done with SELU LN init - iteration 18 of 31.\n",
      "Done with SELU LN init - iteration 19 of 31.\n",
      "Done with SELU LN init - iteration 20 of 31.\n",
      "Done with SELU LN init - iteration 21 of 31.\n",
      "Done with SELU LN init - iteration 22 of 31.\n",
      "Done with SELU LN init - iteration 23 of 31.\n",
      "Done with SELU LN init - iteration 24 of 31.\n",
      "Done with SELU LN init - iteration 25 of 31.\n",
      "Done with SELU LN init - iteration 26 of 31.\n",
      "Done with SELU LN init - iteration 27 of 31.\n",
      "Done with SELU LN init - iteration 28 of 31.\n",
      "Done with SELU LN init - iteration 29 of 31.\n",
      "Done with SELU LN init - iteration 30 of 31.\n",
      "Done with SELU LN init - iteration 31 of 31.\n",
      "Done with BN - iteration 1 of 31.\n",
      "Done with BN - iteration 2 of 31.\n",
      "Done with BN - iteration 3 of 31.\n",
      "Done with BN - iteration 4 of 31.\n",
      "Done with BN - iteration 5 of 31.\n",
      "Done with BN - iteration 6 of 31.\n",
      "Done with BN - iteration 7 of 31.\n",
      "Done with BN - iteration 8 of 31.\n",
      "Done with BN - iteration 9 of 31.\n",
      "Done with BN - iteration 10 of 31.\n",
      "Done with BN - iteration 11 of 31.\n",
      "Done with BN - iteration 12 of 31.\n",
      "Done with BN - iteration 13 of 31.\n",
      "Done with BN - iteration 14 of 31.\n",
      "Done with BN - iteration 15 of 31.\n",
      "Done with BN - iteration 16 of 31.\n",
      "Done with BN - iteration 17 of 31.\n",
      "Done with BN - iteration 18 of 31.\n",
      "Done with BN - iteration 19 of 31.\n",
      "Done with BN - iteration 20 of 31.\n",
      "Done with BN - iteration 21 of 31.\n",
      "Done with BN - iteration 22 of 31.\n",
      "Done with BN - iteration 23 of 31.\n",
      "Done with BN - iteration 24 of 31.\n",
      "Done with BN - iteration 25 of 31.\n",
      "Done with BN - iteration 26 of 31.\n",
      "Done with BN - iteration 27 of 31.\n",
      "Done with BN - iteration 28 of 31.\n",
      "Done with BN - iteration 29 of 31.\n",
      "Done with BN - iteration 30 of 31.\n",
      "Done with BN - iteration 31 of 31.\n"
     ]
    }
   ],
   "source": [
    "# dict with call params\n",
    "param_dict = {'RELU def. init' : 'a', \n",
    "              'RELU LN init' : 'b', \n",
    "              'SELU LN init' : 'c', \n",
    "              'BN' : 'd', \n",
    "             }\n",
    "\n",
    "# fit the networks many times and return the result\n",
    "# see here: https://github.com/PhilipMay/mltb/blob/master/mltb/tools.py\n",
    "result = mltb.tools.multi_param_call(fit, param_dict, 31)"
   ]
  },
  {
   "cell_type": "code",
   "execution_count": 18,
   "metadata": {},
   "outputs": [
    {
     "name": "stdout",
     "output_type": "stream",
     "text": [
      "{'best_val_acc': {'RELU def. init': [0.9792, 0.979, 0.9781, 0.9793, 0.9765, 0.9786, 0.9781, 0.9804, 0.9797, 0.9772, 0.9778, 0.9809, 0.9806, 0.9776, 0.9799, 0.9788, 0.978, 0.9795, 0.9793, 0.9786, 0.9795, 0.9807, 0.9771, 0.9802, 0.9801, 0.9773, 0.9801, 0.9775, 0.9787, 0.9769, 0.98], 'RELU LN init': [0.9776, 0.979, 0.9778, 0.9785, 0.9784, 0.9797, 0.978, 0.9773, 0.9788, 0.9783, 0.9793, 0.9772, 0.9798, 0.9777, 0.978, 0.9787, 0.9765, 0.9775, 0.9782, 0.9782, 0.9797, 0.9795, 0.9784, 0.9791, 0.9788, 0.9777, 0.9812, 0.9776, 0.9803, 0.9796, 0.98], 'SELU LN init': [0.9784, 0.9785, 0.9756, 0.9746, 0.9767, 0.9785, 0.9779, 0.9788, 0.9761, 0.9806, 0.9778, 0.9771, 0.9775, 0.9761, 0.9782, 0.9787, 0.9778, 0.9775, 0.9771, 0.9775, 0.9767, 0.9792, 0.9788, 0.9756, 0.9758, 0.9786, 0.9774, 0.978, 0.9777, 0.9796, 0.9776], 'BN': [0.9793, 0.9771, 0.9791, 0.9792, 0.9787, 0.9792, 0.9782, 0.9805, 0.9793, 0.9798, 0.9802, 0.9785, 0.9787, 0.981, 0.981, 0.9801, 0.9807, 0.9774, 0.9808, 0.9772, 0.9787, 0.9796, 0.9798, 0.9795, 0.9811, 0.9792, 0.9795, 0.9813, 0.9816, 0.9811, 0.9792]}, 'best_val_acc_epoch': {'RELU def. init': [18, 9, 8, 8, 6, 13, 9, 16, 8, 6, 10, 20, 21, 13, 22, 7, 12, 17, 9, 10, 13, 17, 12, 16, 13, 7, 16, 8, 17, 5, 14], 'RELU LN init': [15, 10, 12, 10, 11, 19, 8, 18, 9, 9, 10, 7, 28, 7, 8, 10, 7, 11, 7, 8, 14, 18, 14, 13, 15, 9, 23, 9, 14, 13, 20], 'SELU LN init': [14, 20, 12, 9, 14, 21, 22, 26, 14, 28, 11, 9, 12, 12, 17, 18, 16, 11, 14, 16, 10, 19, 23, 11, 7, 21, 13, 11, 16, 18, 12], 'BN': [16, 4, 14, 11, 4, 9, 10, 19, 9, 13, 9, 8, 9, 25, 16, 14, 22, 7, 10, 6, 10, 12, 11, 8, 16, 7, 7, 14, 16, 17, 16]}}\n"
     ]
    }
   ],
   "source": [
    "#print the result\n",
    "print(result)"
   ]
  },
  {
   "cell_type": "code",
   "execution_count": 19,
   "metadata": {
    "colab": {
     "base_uri": "https://localhost:8080/",
     "height": 402
    },
    "colab_type": "code",
    "id": "Vys6lw-_2NXC",
    "outputId": "223e34ab-078b-4a64-c9e9-e40451fb228c"
   },
   "outputs": [
    {
     "data": {
      "image/png": "[encoded data removed]",
      "text/plain": [
       "<Figure size 432x288 with 1 Axes>"
      ]
     },
     "metadata": {
      "needs_background": "light"
     },
     "output_type": "display_data"
    }
   ],
   "source": [
    "# print boxplots to compare validation accuracy of results \n",
    "# see here: https://github.com/PhilipMay/mltb/blob/master/mltb/plot.py\n",
    "mltb.plot.boxplot_dict(result['best_val_acc'], \n",
    "                       ylabel='Validation accuracy', \n",
    "                       title='Boxplots of validation accuracy'\n",
    "                      )"
   ]
  },
  {
   "cell_type": "code",
   "execution_count": 20,
   "metadata": {
    "colab": {},
    "colab_type": "code",
    "id": "m55_HILCwR6i"
   },
   "outputs": [
    {
     "name": "stdout",
     "output_type": "stream",
     "text": [
      "p-value for best_val_acc: {('RELU def. init', 'RELU LN init'): 0.33571082117157913, ('RELU def. init', 'SELU LN init'): 0.00023474401752234835, ('RELU def. init', 'BN'): 0.029853123275018656, ('RELU LN init', 'SELU LN init'): 0.0017750262708868564, ('RELU LN init', 'BN'): 0.0011737619060210637, ('SELU LN init', 'BN'): 6.500058780648114e-08}\n"
     ]
    }
   ],
   "source": [
    "# p-value for validation accuracy - can we reject the null hypothesis?\n",
    "# see here: https://github.com/PhilipMay/mltb/blob/master/mltb/tools.py\n",
    "print('p-value for best_val_acc:', mltb.tools.ttest_combinations(result['best_val_acc']))"
   ]
  },
  {
   "cell_type": "code",
   "execution_count": 21,
   "metadata": {},
   "outputs": [
    {
     "data": {
      "image/png": "[encoded data removed]",
      "text/plain": [
       "<Figure size 432x288 with 1 Axes>"
      ]
     },
     "metadata": {
      "needs_background": "light"
     },
     "output_type": "display_data"
    }
   ],
   "source": [
    "# print boxplots to compare wich epoch had the best validation accuracy (how fast the network learns)\n",
    "# see here: https://github.com/PhilipMay/mltb/blob/master/mltb/plot.py\n",
    "mltb.plot.boxplot_dict(result['best_val_acc_epoch'], \n",
    "                       ylabel='Best validation accuracy epoch number', \n",
    "                       title='Boxplots of best validation accuracy epoch (how fast the network learns)'\n",
    "                      )"
   ]
  },
  {
   "cell_type": "code",
   "execution_count": 22,
   "metadata": {},
   "outputs": [
    {
     "name": "stdout",
     "output_type": "stream",
     "text": [
      "p-value for best_val_acc_epoch: {('RELU def. init', 'RELU LN init'): 0.878151932695654, ('RELU def. init', 'SELU LN init'): 0.016126464200705636, ('RELU def. init', 'BN'): 0.7762486124711482, ('RELU LN init', 'SELU LN init'): 0.028705470182488178, ('RELU LN init', 'BN'): 0.6721578413410397, ('SELU LN init', 'BN'): 0.009285879358108755}\n"
     ]
    }
   ],
   "source": [
    "# p-value for best validation accuracy epoch - can we reject the null hypothesis?\n",
    "# see here: https://github.com/PhilipMay/mltb/blob/master/mltb/tools.py\n",
    "print('p-value for best_val_acc_epoch:', mltb.tools.ttest_combinations(result['best_val_acc_epoch']))"
   ]
  }
 ],
 "metadata": {
  "accelerator": "GPU",
  "colab": {
   "collapsed_sections": [],
   "name": "scaling+relu.ipynb",
   "provenance": [],
   "version": "0.3.2"
  },
  "kernelspec": {
   "display_name": "Python 3",
   "language": "python",
   "name": "python3"
  },
  "language_info": {
   "codemirror_mode": {
    "name": "ipython",
    "version": 3
   },
   "file_extension": ".py",
   "mimetype": "text/x-python",
   "name": "python",
   "nbconvert_exporter": "python",
   "pygments_lexer": "ipython3",
   "version": "3.6.7"
  }
 },
 "nbformat": 4,
 "nbformat_minor": 1
}
