{
 "cells": [
  {
   "cell_type": "markdown",
   "metadata": {},
   "source": [
    "Baseline experiment of BatchNormalization usage."
   ]
  },
  {
   "cell_type": "code",
   "execution_count": 1,
   "metadata": {
    "colab": {
     "base_uri": "https://localhost:8080/",
     "height": 332
    },
    "colab_type": "code",
    "id": "yeZ2qSzGy600",
    "outputId": "37724a00-6b36-4c44-8a1e-057339d4e575"
   },
   "outputs": [],
   "source": [
    "import mltb\n",
    "import numpy as np\n",
    "\n",
    "%matplotlib inline"
   ]
  },
  {
   "cell_type": "code",
   "execution_count": 2,
   "metadata": {
    "colab": {},
    "colab_type": "code",
    "id": "TCpiHwDWzBP9"
   },
   "outputs": [
    {
     "name": "stderr",
     "output_type": "stream",
     "text": [
      "Using TensorFlow backend.\n"
     ]
    }
   ],
   "source": [
    "from keras.datasets import mnist\n",
    "\n",
    "(train_images, train_labels), (val_images, val_labels) = mnist.load_data()"
   ]
  },
  {
   "cell_type": "code",
   "execution_count": 3,
   "metadata": {
    "colab": {
     "base_uri": "https://localhost:8080/",
     "height": 86
    },
    "colab_type": "code",
    "id": "XsZCVOx1zEVw",
    "outputId": "a79713bd-fdb1-4384-fe5e-62117c9ed453"
   },
   "outputs": [
    {
     "name": "stdout",
     "output_type": "stream",
     "text": [
      "train_images.shape: (60000, 28, 28)\n",
      "train_labels.shape: (60000,)\n",
      "val_images.shape: (10000, 28, 28)\n",
      "val_labels.shape: (10000,)\n"
     ]
    }
   ],
   "source": [
    "print(\"train_images.shape:\", train_images.shape)\n",
    "print(\"train_labels.shape:\", train_labels.shape)\n",
    "print(\"val_images.shape:\", val_images.shape)\n",
    "print(\"val_labels.shape:\", val_labels.shape)"
   ]
  },
  {
   "cell_type": "code",
   "execution_count": 4,
   "metadata": {},
   "outputs": [],
   "source": [
    "from keras.utils import to_categorical\n",
    "\n",
    "train_labels = to_categorical(train_labels)\n",
    "val_labels = to_categorical(val_labels)"
   ]
  },
  {
   "cell_type": "code",
   "execution_count": 5,
   "metadata": {},
   "outputs": [],
   "source": [
    "from keras import models\n",
    "from keras import layers\n",
    "from keras.callbacks import EarlyStopping"
   ]
  },
  {
   "cell_type": "code",
   "execution_count": 6,
   "metadata": {},
   "outputs": [],
   "source": [
    "train_images = train_images.reshape((60000, 28 * 28))\n",
    "train_images = train_images.astype('float32') / 255\n",
    "\n",
    "val_images = val_images.reshape((10000, 28 * 28))\n",
    "val_images = val_images.astype('float32') / 255"
   ]
  },
  {
   "cell_type": "code",
   "execution_count": 7,
   "metadata": {
    "colab": {},
    "colab_type": "code",
    "id": "0pBVVRzZ1CVA"
   },
   "outputs": [],
   "source": [
    "def fit_a():\n",
    "    network = models.Sequential()\n",
    "    network.add(layers.Dense(100, input_shape=(28 * 28,)))\n",
    "    network.add(layers.BatchNormalization())\n",
    "    network.add(layers.Activation('relu'))\n",
    "    network.add(layers.Dense(100))\n",
    "    network.add(layers.BatchNormalization())\n",
    "    network.add(layers.Activation('relu')) \n",
    "    network.add(layers.Dense(100))\n",
    "    network.add(layers.BatchNormalization())\n",
    "    network.add(layers.Activation('relu'))\n",
    "    network.add(layers.Dense(10, activation='softmax'))\n",
    "\n",
    "    network.compile(optimizer='adam',\n",
    "                    loss='categorical_crossentropy',\n",
    "                    metrics=['accuracy'])\n",
    " \n",
    "    es = EarlyStopping(monitor='val_acc', patience=5, mode='max')\n",
    "    \n",
    "    history = network.fit(train_images, train_labels, \n",
    "                          validation_data=(val_images, val_labels), \n",
    "                          epochs=100, \n",
    "                          callbacks=[es],\n",
    "                          verbose=0,\n",
    "                          batch_size=128)\n",
    "    \n",
    "    best_val_acc = max(history.history['val_acc'])\n",
    "    \n",
    "    best_val_acc_epoch = history.history['val_acc'].index(best_val_acc) + 1\n",
    "    \n",
    "    return {'best_val_acc' : best_val_acc, 'best_val_acc_epoch' : best_val_acc_epoch}"
   ]
  },
  {
   "cell_type": "code",
   "execution_count": 8,
   "metadata": {},
   "outputs": [],
   "source": [
    "def fit_b():\n",
    "    network = models.Sequential()\n",
    "    network.add(layers.Dense(100, use_bias=False, input_shape=(28 * 28,)))\n",
    "    network.add(layers.BatchNormalization())\n",
    "    network.add(layers.Activation('relu'))\n",
    "    network.add(layers.Dense(100, use_bias=False))\n",
    "    network.add(layers.BatchNormalization())\n",
    "    network.add(layers.Activation('relu')) \n",
    "    network.add(layers.Dense(100, use_bias=False))\n",
    "    network.add(layers.BatchNormalization())\n",
    "    network.add(layers.Activation('relu'))\n",
    "    network.add(layers.Dense(10, activation='softmax'))\n",
    "\n",
    "    network.compile(optimizer='adam',\n",
    "                    loss='categorical_crossentropy',\n",
    "                    metrics=['accuracy'])\n",
    " \n",
    "    es = EarlyStopping(monitor='val_acc', patience=5, mode='max')\n",
    "    \n",
    "    history = network.fit(train_images, train_labels, \n",
    "                          validation_data=(val_images, val_labels), \n",
    "                          epochs=100, \n",
    "                          callbacks=[es],\n",
    "                          verbose=0,\n",
    "                          batch_size=128)\n",
    "    \n",
    "    best_val_acc = max(history.history['val_acc'])\n",
    "    \n",
    "    best_val_acc_epoch = history.history['val_acc'].index(best_val_acc) + 1\n",
    "    \n",
    "    return {'best_val_acc' : best_val_acc, 'best_val_acc_epoch' : best_val_acc_epoch}"
   ]
  },
  {
   "cell_type": "code",
   "execution_count": 9,
   "metadata": {},
   "outputs": [],
   "source": [
    "def fit(value):\n",
    "    if value == 'a':\n",
    "        return fit_a()\n",
    "    if value == 'b':\n",
    "        return fit_b()"
   ]
  },
  {
   "cell_type": "code",
   "execution_count": 10,
   "metadata": {
    "colab": {
     "base_uri": "https://localhost:8080/",
     "height": 2816
    },
    "colab_type": "code",
    "id": "ysDBwTkk2IyV",
    "outputId": "2bdc5c9a-aeb9-4a30-9fc0-a8b01e6758c6"
   },
   "outputs": [
    {
     "name": "stdout",
     "output_type": "stream",
     "text": [
      "Done with relu + BN - iteration 1 of 35.\n",
      "Done with relu + BN - iteration 2 of 35.\n",
      "Done with relu + BN - iteration 3 of 35.\n",
      "Done with relu + BN - iteration 4 of 35.\n",
      "Done with relu + BN - iteration 5 of 35.\n",
      "Done with relu + BN - iteration 6 of 35.\n",
      "Done with relu + BN - iteration 7 of 35.\n",
      "Done with relu + BN - iteration 8 of 35.\n",
      "Done with relu + BN - iteration 9 of 35.\n",
      "Done with relu + BN - iteration 10 of 35.\n",
      "Done with relu + BN - iteration 11 of 35.\n",
      "Done with relu + BN - iteration 12 of 35.\n",
      "Done with relu + BN - iteration 13 of 35.\n",
      "Done with relu + BN - iteration 14 of 35.\n",
      "Done with relu + BN - iteration 15 of 35.\n",
      "Done with relu + BN - iteration 16 of 35.\n",
      "Done with relu + BN - iteration 17 of 35.\n",
      "Done with relu + BN - iteration 18 of 35.\n",
      "Done with relu + BN - iteration 19 of 35.\n",
      "Done with relu + BN - iteration 20 of 35.\n",
      "Done with relu + BN - iteration 21 of 35.\n",
      "Done with relu + BN - iteration 22 of 35.\n",
      "Done with relu + BN - iteration 23 of 35.\n",
      "Done with relu + BN - iteration 24 of 35.\n",
      "Done with relu + BN - iteration 25 of 35.\n",
      "Done with relu + BN - iteration 26 of 35.\n",
      "Done with relu + BN - iteration 27 of 35.\n",
      "Done with relu + BN - iteration 28 of 35.\n",
      "Done with relu + BN - iteration 29 of 35.\n",
      "Done with relu + BN - iteration 30 of 35.\n",
      "Done with relu + BN - iteration 31 of 35.\n",
      "Done with relu + BN - iteration 32 of 35.\n",
      "Done with relu + BN - iteration 33 of 35.\n",
      "Done with relu + BN - iteration 34 of 35.\n",
      "Done with relu + BN - iteration 35 of 35.\n",
      "Done with relu + BN no Bias - iteration 1 of 35.\n",
      "Done with relu + BN no Bias - iteration 2 of 35.\n",
      "Done with relu + BN no Bias - iteration 3 of 35.\n",
      "Done with relu + BN no Bias - iteration 4 of 35.\n",
      "Done with relu + BN no Bias - iteration 5 of 35.\n",
      "Done with relu + BN no Bias - iteration 6 of 35.\n",
      "Done with relu + BN no Bias - iteration 7 of 35.\n",
      "Done with relu + BN no Bias - iteration 8 of 35.\n",
      "Done with relu + BN no Bias - iteration 9 of 35.\n",
      "Done with relu + BN no Bias - iteration 10 of 35.\n",
      "Done with relu + BN no Bias - iteration 11 of 35.\n",
      "Done with relu + BN no Bias - iteration 12 of 35.\n",
      "Done with relu + BN no Bias - iteration 13 of 35.\n",
      "Done with relu + BN no Bias - iteration 14 of 35.\n",
      "Done with relu + BN no Bias - iteration 15 of 35.\n",
      "Done with relu + BN no Bias - iteration 16 of 35.\n",
      "Done with relu + BN no Bias - iteration 17 of 35.\n",
      "Done with relu + BN no Bias - iteration 18 of 35.\n",
      "Done with relu + BN no Bias - iteration 19 of 35.\n",
      "Done with relu + BN no Bias - iteration 20 of 35.\n",
      "Done with relu + BN no Bias - iteration 21 of 35.\n",
      "Done with relu + BN no Bias - iteration 22 of 35.\n",
      "Done with relu + BN no Bias - iteration 23 of 35.\n",
      "Done with relu + BN no Bias - iteration 24 of 35.\n",
      "Done with relu + BN no Bias - iteration 25 of 35.\n",
      "Done with relu + BN no Bias - iteration 26 of 35.\n",
      "Done with relu + BN no Bias - iteration 27 of 35.\n",
      "Done with relu + BN no Bias - iteration 28 of 35.\n",
      "Done with relu + BN no Bias - iteration 29 of 35.\n",
      "Done with relu + BN no Bias - iteration 30 of 35.\n",
      "Done with relu + BN no Bias - iteration 31 of 35.\n",
      "Done with relu + BN no Bias - iteration 32 of 35.\n",
      "Done with relu + BN no Bias - iteration 33 of 35.\n",
      "Done with relu + BN no Bias - iteration 34 of 35.\n",
      "Done with relu + BN no Bias - iteration 35 of 35.\n"
     ]
    }
   ],
   "source": [
    "param_dict = {'relu + BN' : 'a', \n",
    "              'relu + BN no Bias' : 'b', \n",
    "             }\n",
    "\n",
    "result = mltb.tools.multi_param_call(fit, param_dict, 35)"
   ]
  },
  {
   "cell_type": "code",
   "execution_count": 11,
   "metadata": {
    "colab": {
     "base_uri": "https://localhost:8080/",
     "height": 402
    },
    "colab_type": "code",
    "id": "Vys6lw-_2NXC",
    "outputId": "223e34ab-078b-4a64-c9e9-e40451fb228c"
   },
   "outputs": [
    {
     "data": {
      "image/png": "[encoded data removed]",
      "text/plain": [
       "<Figure size 432x288 with 1 Axes>"
      ]
     },
     "metadata": {
      "needs_background": "light"
     },
     "output_type": "display_data"
    }
   ],
   "source": [
    "mltb.plot.boxplot_dict(result['best_val_acc'], \n",
    "                       ylabel='Validation Accuracy', \n",
    "                       title='Boxplots of Validation Accuracy'\n",
    "                      )"
   ]
  },
  {
   "cell_type": "code",
   "execution_count": 12,
   "metadata": {
    "colab": {},
    "colab_type": "code",
    "id": "m55_HILCwR6i"
   },
   "outputs": [
    {
     "name": "stdout",
     "output_type": "stream",
     "text": [
      "p-value: 0.6634374940147953\n"
     ]
    }
   ],
   "source": [
    "from scipy import stats\n",
    "\n",
    "print('p-value:', stats.ttest_ind(result['best_val_acc']['relu + BN'], \n",
    "                                  result['best_val_acc']['relu + BN no Bias'])[1])"
   ]
  },
  {
   "cell_type": "code",
   "execution_count": 13,
   "metadata": {},
   "outputs": [
    {
     "data": {
      "image/png": "[encoded data removed]",
      "text/plain": [
       "<Figure size 432x288 with 1 Axes>"
      ]
     },
     "metadata": {
      "needs_background": "light"
     },
     "output_type": "display_data"
    }
   ],
   "source": [
    "mltb.plot.boxplot_dict(result['best_val_acc_epoch'], \n",
    "                       ylabel='Best Validation Accuracy Epoch', \n",
    "                       title='Boxplots of best Validation Accuracy Epoch'\n",
    "                      )"
   ]
  },
  {
   "cell_type": "code",
   "execution_count": 14,
   "metadata": {},
   "outputs": [
    {
     "name": "stdout",
     "output_type": "stream",
     "text": [
      "p-value: 0.3255389987307865\n"
     ]
    }
   ],
   "source": [
    "from scipy import stats\n",
    "\n",
    "print('p-value:', stats.ttest_ind(result['best_val_acc_epoch']['relu + BN'], \n",
    "                                  result['best_val_acc_epoch']['relu + BN no Bias'])[1])"
   ]
  },
  {
   "cell_type": "code",
   "execution_count": 15,
   "metadata": {},
   "outputs": [
    {
     "data": {
      "text/plain": [
       "{'best_val_acc': {'relu + BN': [0.9802,\n",
       "   0.9784,\n",
       "   0.977,\n",
       "   0.9805,\n",
       "   0.9779,\n",
       "   0.9819,\n",
       "   0.9798,\n",
       "   0.9803,\n",
       "   0.9791,\n",
       "   0.9786,\n",
       "   0.9777,\n",
       "   0.9795,\n",
       "   0.9797,\n",
       "   0.9795,\n",
       "   0.9822,\n",
       "   0.982,\n",
       "   0.9784,\n",
       "   0.98,\n",
       "   0.9796,\n",
       "   0.978,\n",
       "   0.9798,\n",
       "   0.9787,\n",
       "   0.979,\n",
       "   0.9779,\n",
       "   0.9787,\n",
       "   0.9809,\n",
       "   0.9789,\n",
       "   0.9793,\n",
       "   0.9784,\n",
       "   0.9795,\n",
       "   0.9801,\n",
       "   0.979,\n",
       "   0.9766,\n",
       "   0.9778,\n",
       "   0.9797],\n",
       "  'relu + BN no Bias': [0.9809,\n",
       "   0.9805,\n",
       "   0.9779,\n",
       "   0.9785,\n",
       "   0.9769,\n",
       "   0.9779,\n",
       "   0.9805,\n",
       "   0.9806,\n",
       "   0.9809,\n",
       "   0.9795,\n",
       "   0.9812,\n",
       "   0.9789,\n",
       "   0.9815,\n",
       "   0.9794,\n",
       "   0.9804,\n",
       "   0.9793,\n",
       "   0.9795,\n",
       "   0.9785,\n",
       "   0.9789,\n",
       "   0.9767,\n",
       "   0.9763,\n",
       "   0.9814,\n",
       "   0.9798,\n",
       "   0.9791,\n",
       "   0.9798,\n",
       "   0.9771,\n",
       "   0.9809,\n",
       "   0.9786,\n",
       "   0.9796,\n",
       "   0.9804,\n",
       "   0.9786,\n",
       "   0.9799,\n",
       "   0.9811,\n",
       "   0.9788,\n",
       "   0.9797]},\n",
       " 'best_val_acc_epoch': {'relu + BN': [15,\n",
       "   17,\n",
       "   6,\n",
       "   12,\n",
       "   8,\n",
       "   15,\n",
       "   9,\n",
       "   15,\n",
       "   7,\n",
       "   8,\n",
       "   5,\n",
       "   9,\n",
       "   15,\n",
       "   17,\n",
       "   23,\n",
       "   16,\n",
       "   9,\n",
       "   7,\n",
       "   9,\n",
       "   6,\n",
       "   12,\n",
       "   12,\n",
       "   7,\n",
       "   9,\n",
       "   5,\n",
       "   17,\n",
       "   14,\n",
       "   12,\n",
       "   8,\n",
       "   9,\n",
       "   18,\n",
       "   14,\n",
       "   5,\n",
       "   6,\n",
       "   13],\n",
       "  'relu + BN no Bias': [24,\n",
       "   15,\n",
       "   6,\n",
       "   11,\n",
       "   7,\n",
       "   9,\n",
       "   9,\n",
       "   19,\n",
       "   16,\n",
       "   10,\n",
       "   21,\n",
       "   8,\n",
       "   24,\n",
       "   11,\n",
       "   12,\n",
       "   11,\n",
       "   10,\n",
       "   8,\n",
       "   11,\n",
       "   5,\n",
       "   6,\n",
       "   28,\n",
       "   14,\n",
       "   8,\n",
       "   16,\n",
       "   5,\n",
       "   12,\n",
       "   4,\n",
       "   19,\n",
       "   17,\n",
       "   10,\n",
       "   7,\n",
       "   17,\n",
       "   7,\n",
       "   16]}}"
      ]
     },
     "execution_count": 15,
     "metadata": {},
     "output_type": "execute_result"
    }
   ],
   "source": [
    "result"
   ]
  },
  {
   "cell_type": "code",
   "execution_count": 26,
   "metadata": {},
   "outputs": [
    {
     "name": "stdout",
     "output_type": "stream",
     "text": [
      "('a', 'b')\n",
      "('a', 'c')\n",
      "('a', 'd')\n",
      "('b', 'c')\n",
      "('b', 'd')\n",
      "('c', 'd')\n"
     ]
    }
   ],
   "source": [
    "import itertools\n",
    "\n",
    "for x in itertools.combinations(['a', 'b', 'c', 'd'], 2):\n",
    "    print(x)"
   ]
  },
  {
   "cell_type": "code",
   "execution_count": 28,
   "metadata": {},
   "outputs": [
    {
     "name": "stdout",
     "output_type": "stream",
     "text": [
      "('relu + BN', 'relu + BN no Bias')\n"
     ]
    }
   ],
   "source": [
    "import itertools\n",
    "\n",
    "for x in itertools.combinations(result['best_val_acc_epoch'].keys(), 2):\n",
    "    print(x)"
   ]
  },
  {
   "cell_type": "code",
   "execution_count": null,
   "metadata": {},
   "outputs": [],
   "source": []
  }
 ],
 "metadata": {
  "accelerator": "GPU",
  "colab": {
   "collapsed_sections": [],
   "name": "scaling+relu.ipynb",
   "provenance": [],
   "version": "0.3.2"
  },
  "kernelspec": {
   "display_name": "Python 3",
   "language": "python",
   "name": "python3"
  },
  "language_info": {
   "codemirror_mode": {
    "name": "ipython",
    "version": 3
   },
   "file_extension": ".py",
   "mimetype": "text/x-python",
   "name": "python",
   "nbconvert_exporter": "python",
   "pygments_lexer": "ipython3",
   "version": "3.6.7"
  }
 },
 "nbformat": 4,
 "nbformat_minor": 1
}
