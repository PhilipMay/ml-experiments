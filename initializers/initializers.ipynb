{
 "cells": [
  {
   "cell_type": "markdown",
   "metadata": {},
   "source": [
    "Comparing different kernel initializers on MNIST data set."
   ]
  },
  {
   "cell_type": "code",
   "execution_count": 1,
   "metadata": {},
   "outputs": [
    {
     "name": "stdout",
     "output_type": "stream",
     "text": [
      "Requirement already satisfied: mltb==0.0.10 in c:\\programdata\\miniconda3\\envs\\py36\\lib\\site-packages (0.0.10)\n",
      "Requirement already satisfied: numpy in c:\\programdata\\miniconda3\\envs\\py36\\lib\\site-packages (from mltb==0.0.10) (1.15.3)\n",
      "Requirement already satisfied: keras in c:\\programdata\\miniconda3\\envs\\py36\\lib\\site-packages (from mltb==0.0.10) (2.2.4)\n",
      "Requirement already satisfied: matplotlib in c:\\programdata\\miniconda3\\envs\\py36\\lib\\site-packages (from mltb==0.0.10) (3.0.1)\n",
      "Requirement already satisfied: sklearn in c:\\programdata\\miniconda3\\envs\\py36\\lib\\site-packages (from mltb==0.0.10) (0.0)\n",
      "Requirement already satisfied: pyyaml in c:\\programdata\\miniconda3\\envs\\py36\\lib\\site-packages (from keras->mltb==0.0.10) (3.13)\n",
      "Requirement already satisfied: scipy>=0.14 in c:\\programdata\\miniconda3\\envs\\py36\\lib\\site-packages (from keras->mltb==0.0.10) (1.1.0)\n",
      "Requirement already satisfied: keras-applications>=1.0.6 in c:\\programdata\\miniconda3\\envs\\py36\\lib\\site-packages (from keras->mltb==0.0.10) (1.0.6)\n",
      "Requirement already satisfied: h5py in c:\\programdata\\miniconda3\\envs\\py36\\lib\\site-packages (from keras->mltb==0.0.10) (2.8.0)\n",
      "Requirement already satisfied: keras-preprocessing>=1.0.5 in c:\\programdata\\miniconda3\\envs\\py36\\lib\\site-packages (from keras->mltb==0.0.10) (1.0.5)\n",
      "Requirement already satisfied: six>=1.9.0 in c:\\programdata\\miniconda3\\envs\\py36\\lib\\site-packages (from keras->mltb==0.0.10) (1.11.0)\n",
      "Requirement already satisfied: python-dateutil>=2.1 in c:\\programdata\\miniconda3\\envs\\py36\\lib\\site-packages (from matplotlib->mltb==0.0.10) (2.7.5)\n",
      "Requirement already satisfied: cycler>=0.10 in c:\\programdata\\miniconda3\\envs\\py36\\lib\\site-packages (from matplotlib->mltb==0.0.10) (0.10.0)\n",
      "Requirement already satisfied: kiwisolver>=1.0.1 in c:\\programdata\\miniconda3\\envs\\py36\\lib\\site-packages (from matplotlib->mltb==0.0.10) (1.0.1)\n",
      "Requirement already satisfied: pyparsing!=2.0.4,!=2.1.2,!=2.1.6,>=2.0.1 in c:\\programdata\\miniconda3\\envs\\py36\\lib\\site-packages (from matplotlib->mltb==0.0.10) (2.2.2)\n",
      "Requirement already satisfied: scikit-learn in c:\\programdata\\miniconda3\\envs\\py36\\lib\\site-packages (from sklearn->mltb==0.0.10) (0.20.0)\n",
      "Requirement already satisfied: setuptools in c:\\programdata\\miniconda3\\envs\\py36\\lib\\site-packages (from kiwisolver>=1.0.1->matplotlib->mltb==0.0.10) (39.1.0)\n"
     ]
    }
   ],
   "source": [
    "!pip install mltb==0.0.10"
   ]
  },
  {
   "cell_type": "code",
   "execution_count": 2,
   "metadata": {
    "colab": {
     "base_uri": "https://localhost:8080/",
     "height": 332
    },
    "colab_type": "code",
    "id": "yeZ2qSzGy600",
    "outputId": "37724a00-6b36-4c44-8a1e-057339d4e575"
   },
   "outputs": [
    {
     "name": "stderr",
     "output_type": "stream",
     "text": [
      "Using TensorFlow backend.\n"
     ]
    }
   ],
   "source": [
    "import mltb\n",
    "import numpy as np\n",
    "from keras.datasets import mnist\n",
    "from keras.utils import to_categorical\n",
    "from keras import models\n",
    "from keras import layers\n",
    "from keras.callbacks import EarlyStopping\n",
    "\n",
    "%matplotlib inline"
   ]
  },
  {
   "cell_type": "code",
   "execution_count": 3,
   "metadata": {
    "colab": {},
    "colab_type": "code",
    "id": "TCpiHwDWzBP9"
   },
   "outputs": [],
   "source": [
    "(train_images, train_labels), (val_images, val_labels) = mnist.load_data()"
   ]
  },
  {
   "cell_type": "code",
   "execution_count": 4,
   "metadata": {
    "colab": {
     "base_uri": "https://localhost:8080/",
     "height": 86
    },
    "colab_type": "code",
    "id": "XsZCVOx1zEVw",
    "outputId": "a79713bd-fdb1-4384-fe5e-62117c9ed453"
   },
   "outputs": [
    {
     "name": "stdout",
     "output_type": "stream",
     "text": [
      "train_images.shape: (60000, 28, 28)\n",
      "train_labels.shape: (60000,)\n",
      "val_images.shape: (10000, 28, 28)\n",
      "val_labels.shape: (10000,)\n"
     ]
    }
   ],
   "source": [
    "print(\"train_images.shape:\", train_images.shape)\n",
    "print(\"train_labels.shape:\", train_labels.shape)\n",
    "print(\"val_images.shape:\", val_images.shape)\n",
    "print(\"val_labels.shape:\", val_labels.shape)"
   ]
  },
  {
   "cell_type": "code",
   "execution_count": 5,
   "metadata": {},
   "outputs": [],
   "source": [
    "train_labels = to_categorical(train_labels)\n",
    "val_labels = to_categorical(val_labels)"
   ]
  },
  {
   "cell_type": "code",
   "execution_count": 6,
   "metadata": {},
   "outputs": [],
   "source": [
    "train_images = train_images.reshape((60000, 28 * 28))\n",
    "train_images = train_images.astype('float32') / 255\n",
    "\n",
    "val_images = val_images.reshape((10000, 28 * 28))\n",
    "val_images = val_images.astype('float32') / 255"
   ]
  },
  {
   "cell_type": "code",
   "execution_count": 7,
   "metadata": {
    "colab": {},
    "colab_type": "code",
    "id": "0pBVVRzZ1CVA"
   },
   "outputs": [],
   "source": [
    "def fit(initializer):\n",
    "    network = models.Sequential()\n",
    "    network.add(layers.Dense(100, kernel_initializer=initializer, input_shape=(28 * 28,)))\n",
    "    network.add(layers.Activation('relu'))\n",
    "    network.add(layers.Dense(100, kernel_initializer=initializer))\n",
    "    network.add(layers.Activation('relu')) \n",
    "    network.add(layers.Dense(10, kernel_initializer=initializer, activation='softmax'))\n",
    "\n",
    "    network.compile(optimizer='adam',\n",
    "                    loss='categorical_crossentropy',\n",
    "                    metrics=['accuracy'])\n",
    " \n",
    "    es = EarlyStopping(monitor='val_acc', patience=5, mode='max')\n",
    "    \n",
    "    history = network.fit(train_images, train_labels, \n",
    "                          validation_data=(val_images, val_labels), \n",
    "                          epochs=100, \n",
    "                          callbacks=[es],\n",
    "                          verbose=0,\n",
    "                          batch_size=128)\n",
    "    \n",
    "    best_val_acc = max(history.history['val_acc'])\n",
    "    \n",
    "    best_val_acc_epoch = history.history['val_acc'].index(best_val_acc) + 1\n",
    "    \n",
    "    return {'best_val_acc' : best_val_acc, 'best_val_acc_epoch' : best_val_acc_epoch}"
   ]
  },
  {
   "cell_type": "code",
   "execution_count": 8,
   "metadata": {
    "colab": {
     "base_uri": "https://localhost:8080/",
     "height": 2816
    },
    "colab_type": "code",
    "id": "ysDBwTkk2IyV",
    "outputId": "2bdc5c9a-aeb9-4a30-9fc0-a8b01e6758c6"
   },
   "outputs": [
    {
     "name": "stdout",
     "output_type": "stream",
     "text": [
      "Done with lecun_normal - iteration 1 of 31.\n",
      "Done with lecun_normal - iteration 2 of 31.\n",
      "Done with lecun_normal - iteration 3 of 31.\n",
      "Done with lecun_normal - iteration 4 of 31.\n",
      "Done with lecun_normal - iteration 5 of 31.\n",
      "Done with lecun_normal - iteration 6 of 31.\n",
      "Done with lecun_normal - iteration 7 of 31.\n",
      "Done with lecun_normal - iteration 8 of 31.\n",
      "Done with lecun_normal - iteration 9 of 31.\n",
      "Done with lecun_normal - iteration 10 of 31.\n",
      "Done with lecun_normal - iteration 11 of 31.\n",
      "Done with lecun_normal - iteration 12 of 31.\n",
      "Done with lecun_normal - iteration 13 of 31.\n",
      "Done with lecun_normal - iteration 14 of 31.\n",
      "Done with lecun_normal - iteration 15 of 31.\n",
      "Done with lecun_normal - iteration 16 of 31.\n",
      "Done with lecun_normal - iteration 17 of 31.\n",
      "Done with lecun_normal - iteration 18 of 31.\n",
      "Done with lecun_normal - iteration 19 of 31.\n",
      "Done with lecun_normal - iteration 20 of 31.\n",
      "Done with lecun_normal - iteration 21 of 31.\n",
      "Done with lecun_normal - iteration 22 of 31.\n",
      "Done with lecun_normal - iteration 23 of 31.\n",
      "Done with lecun_normal - iteration 24 of 31.\n",
      "Done with lecun_normal - iteration 25 of 31.\n",
      "Done with lecun_normal - iteration 26 of 31.\n",
      "Done with lecun_normal - iteration 27 of 31.\n",
      "Done with lecun_normal - iteration 28 of 31.\n",
      "Done with lecun_normal - iteration 29 of 31.\n",
      "Done with lecun_normal - iteration 30 of 31.\n",
      "Done with lecun_normal - iteration 31 of 31.\n",
      "Done with lecun_uniform - iteration 1 of 31.\n",
      "Done with lecun_uniform - iteration 2 of 31.\n",
      "Done with lecun_uniform - iteration 3 of 31.\n",
      "Done with lecun_uniform - iteration 4 of 31.\n",
      "Done with lecun_uniform - iteration 5 of 31.\n",
      "Done with lecun_uniform - iteration 6 of 31.\n",
      "Done with lecun_uniform - iteration 7 of 31.\n",
      "Done with lecun_uniform - iteration 8 of 31.\n",
      "Done with lecun_uniform - iteration 9 of 31.\n",
      "Done with lecun_uniform - iteration 10 of 31.\n",
      "Done with lecun_uniform - iteration 11 of 31.\n",
      "Done with lecun_uniform - iteration 12 of 31.\n",
      "Done with lecun_uniform - iteration 13 of 31.\n",
      "Done with lecun_uniform - iteration 14 of 31.\n",
      "Done with lecun_uniform - iteration 15 of 31.\n",
      "Done with lecun_uniform - iteration 16 of 31.\n",
      "Done with lecun_uniform - iteration 17 of 31.\n",
      "Done with lecun_uniform - iteration 18 of 31.\n",
      "Done with lecun_uniform - iteration 19 of 31.\n",
      "Done with lecun_uniform - iteration 20 of 31.\n",
      "Done with lecun_uniform - iteration 21 of 31.\n",
      "Done with lecun_uniform - iteration 22 of 31.\n",
      "Done with lecun_uniform - iteration 23 of 31.\n",
      "Done with lecun_uniform - iteration 24 of 31.\n",
      "Done with lecun_uniform - iteration 25 of 31.\n",
      "Done with lecun_uniform - iteration 26 of 31.\n",
      "Done with lecun_uniform - iteration 27 of 31.\n",
      "Done with lecun_uniform - iteration 28 of 31.\n",
      "Done with lecun_uniform - iteration 29 of 31.\n",
      "Done with lecun_uniform - iteration 30 of 31.\n",
      "Done with lecun_uniform - iteration 31 of 31.\n",
      "Done with glorot_normal - iteration 1 of 31.\n",
      "Done with glorot_normal - iteration 2 of 31.\n",
      "Done with glorot_normal - iteration 3 of 31.\n",
      "Done with glorot_normal - iteration 4 of 31.\n",
      "Done with glorot_normal - iteration 5 of 31.\n",
      "Done with glorot_normal - iteration 6 of 31.\n",
      "Done with glorot_normal - iteration 7 of 31.\n",
      "Done with glorot_normal - iteration 8 of 31.\n",
      "Done with glorot_normal - iteration 9 of 31.\n",
      "Done with glorot_normal - iteration 10 of 31.\n",
      "Done with glorot_normal - iteration 11 of 31.\n",
      "Done with glorot_normal - iteration 12 of 31.\n",
      "Done with glorot_normal - iteration 13 of 31.\n",
      "Done with glorot_normal - iteration 14 of 31.\n",
      "Done with glorot_normal - iteration 15 of 31.\n",
      "Done with glorot_normal - iteration 16 of 31.\n",
      "Done with glorot_normal - iteration 17 of 31.\n",
      "Done with glorot_normal - iteration 18 of 31.\n",
      "Done with glorot_normal - iteration 19 of 31.\n",
      "Done with glorot_normal - iteration 20 of 31.\n",
      "Done with glorot_normal - iteration 21 of 31.\n",
      "Done with glorot_normal - iteration 22 of 31.\n",
      "Done with glorot_normal - iteration 23 of 31.\n",
      "Done with glorot_normal - iteration 24 of 31.\n",
      "Done with glorot_normal - iteration 25 of 31.\n",
      "Done with glorot_normal - iteration 26 of 31.\n",
      "Done with glorot_normal - iteration 27 of 31.\n",
      "Done with glorot_normal - iteration 28 of 31.\n",
      "Done with glorot_normal - iteration 29 of 31.\n",
      "Done with glorot_normal - iteration 30 of 31.\n",
      "Done with glorot_normal - iteration 31 of 31.\n",
      "Done with glorot_uniform - iteration 1 of 31.\n",
      "Done with glorot_uniform - iteration 2 of 31.\n",
      "Done with glorot_uniform - iteration 3 of 31.\n",
      "Done with glorot_uniform - iteration 4 of 31.\n",
      "Done with glorot_uniform - iteration 5 of 31.\n",
      "Done with glorot_uniform - iteration 6 of 31.\n",
      "Done with glorot_uniform - iteration 7 of 31.\n",
      "Done with glorot_uniform - iteration 8 of 31.\n",
      "Done with glorot_uniform - iteration 9 of 31.\n",
      "Done with glorot_uniform - iteration 10 of 31.\n",
      "Done with glorot_uniform - iteration 11 of 31.\n",
      "Done with glorot_uniform - iteration 12 of 31.\n",
      "Done with glorot_uniform - iteration 13 of 31.\n",
      "Done with glorot_uniform - iteration 14 of 31.\n",
      "Done with glorot_uniform - iteration 15 of 31.\n",
      "Done with glorot_uniform - iteration 16 of 31.\n",
      "Done with glorot_uniform - iteration 17 of 31.\n",
      "Done with glorot_uniform - iteration 18 of 31.\n",
      "Done with glorot_uniform - iteration 19 of 31.\n",
      "Done with glorot_uniform - iteration 20 of 31.\n",
      "Done with glorot_uniform - iteration 21 of 31.\n",
      "Done with glorot_uniform - iteration 22 of 31.\n",
      "Done with glorot_uniform - iteration 23 of 31.\n",
      "Done with glorot_uniform - iteration 24 of 31.\n",
      "Done with glorot_uniform - iteration 25 of 31.\n",
      "Done with glorot_uniform - iteration 26 of 31.\n",
      "Done with glorot_uniform - iteration 27 of 31.\n",
      "Done with glorot_uniform - iteration 28 of 31.\n",
      "Done with glorot_uniform - iteration 29 of 31.\n",
      "Done with glorot_uniform - iteration 30 of 31.\n",
      "Done with glorot_uniform - iteration 31 of 31.\n",
      "Done with he_normal - iteration 1 of 31.\n",
      "Done with he_normal - iteration 2 of 31.\n",
      "Done with he_normal - iteration 3 of 31.\n",
      "Done with he_normal - iteration 4 of 31.\n",
      "Done with he_normal - iteration 5 of 31.\n",
      "Done with he_normal - iteration 6 of 31.\n",
      "Done with he_normal - iteration 7 of 31.\n",
      "Done with he_normal - iteration 8 of 31.\n",
      "Done with he_normal - iteration 9 of 31.\n",
      "Done with he_normal - iteration 10 of 31.\n",
      "Done with he_normal - iteration 11 of 31.\n",
      "Done with he_normal - iteration 12 of 31.\n",
      "Done with he_normal - iteration 13 of 31.\n",
      "Done with he_normal - iteration 14 of 31.\n",
      "Done with he_normal - iteration 15 of 31.\n",
      "Done with he_normal - iteration 16 of 31.\n",
      "Done with he_normal - iteration 17 of 31.\n",
      "Done with he_normal - iteration 18 of 31.\n",
      "Done with he_normal - iteration 19 of 31.\n",
      "Done with he_normal - iteration 20 of 31.\n",
      "Done with he_normal - iteration 21 of 31.\n",
      "Done with he_normal - iteration 22 of 31.\n",
      "Done with he_normal - iteration 23 of 31.\n",
      "Done with he_normal - iteration 24 of 31.\n",
      "Done with he_normal - iteration 25 of 31.\n",
      "Done with he_normal - iteration 26 of 31.\n",
      "Done with he_normal - iteration 27 of 31.\n",
      "Done with he_normal - iteration 28 of 31.\n",
      "Done with he_normal - iteration 29 of 31.\n",
      "Done with he_normal - iteration 30 of 31.\n",
      "Done with he_normal - iteration 31 of 31.\n",
      "Done with he_uniform - iteration 1 of 31.\n",
      "Done with he_uniform - iteration 2 of 31.\n",
      "Done with he_uniform - iteration 3 of 31.\n",
      "Done with he_uniform - iteration 4 of 31.\n",
      "Done with he_uniform - iteration 5 of 31.\n",
      "Done with he_uniform - iteration 6 of 31.\n",
      "Done with he_uniform - iteration 7 of 31.\n",
      "Done with he_uniform - iteration 8 of 31.\n",
      "Done with he_uniform - iteration 9 of 31.\n",
      "Done with he_uniform - iteration 10 of 31.\n",
      "Done with he_uniform - iteration 11 of 31.\n",
      "Done with he_uniform - iteration 12 of 31.\n",
      "Done with he_uniform - iteration 13 of 31.\n",
      "Done with he_uniform - iteration 14 of 31.\n",
      "Done with he_uniform - iteration 15 of 31.\n",
      "Done with he_uniform - iteration 16 of 31.\n",
      "Done with he_uniform - iteration 17 of 31.\n",
      "Done with he_uniform - iteration 18 of 31.\n",
      "Done with he_uniform - iteration 19 of 31.\n",
      "Done with he_uniform - iteration 20 of 31.\n",
      "Done with he_uniform - iteration 21 of 31.\n",
      "Done with he_uniform - iteration 22 of 31.\n",
      "Done with he_uniform - iteration 23 of 31.\n",
      "Done with he_uniform - iteration 24 of 31.\n",
      "Done with he_uniform - iteration 25 of 31.\n",
      "Done with he_uniform - iteration 26 of 31.\n",
      "Done with he_uniform - iteration 27 of 31.\n",
      "Done with he_uniform - iteration 28 of 31.\n",
      "Done with he_uniform - iteration 29 of 31.\n"
     ]
    },
    {
     "name": "stdout",
     "output_type": "stream",
     "text": [
      "Done with he_uniform - iteration 30 of 31.\n",
      "Done with he_uniform - iteration 31 of 31.\n",
      "Done with random_normal - iteration 1 of 31.\n",
      "Done with random_normal - iteration 2 of 31.\n",
      "Done with random_normal - iteration 3 of 31.\n",
      "Done with random_normal - iteration 4 of 31.\n",
      "Done with random_normal - iteration 5 of 31.\n",
      "Done with random_normal - iteration 6 of 31.\n",
      "Done with random_normal - iteration 7 of 31.\n",
      "Done with random_normal - iteration 8 of 31.\n",
      "Done with random_normal - iteration 9 of 31.\n",
      "Done with random_normal - iteration 10 of 31.\n",
      "Done with random_normal - iteration 11 of 31.\n",
      "Done with random_normal - iteration 12 of 31.\n",
      "Done with random_normal - iteration 13 of 31.\n",
      "Done with random_normal - iteration 14 of 31.\n",
      "Done with random_normal - iteration 15 of 31.\n",
      "Done with random_normal - iteration 16 of 31.\n",
      "Done with random_normal - iteration 17 of 31.\n",
      "Done with random_normal - iteration 18 of 31.\n",
      "Done with random_normal - iteration 19 of 31.\n",
      "Done with random_normal - iteration 20 of 31.\n",
      "Done with random_normal - iteration 21 of 31.\n",
      "Done with random_normal - iteration 22 of 31.\n",
      "Done with random_normal - iteration 23 of 31.\n",
      "Done with random_normal - iteration 24 of 31.\n",
      "Done with random_normal - iteration 25 of 31.\n",
      "Done with random_normal - iteration 26 of 31.\n",
      "Done with random_normal - iteration 27 of 31.\n",
      "Done with random_normal - iteration 28 of 31.\n",
      "Done with random_normal - iteration 29 of 31.\n",
      "Done with random_normal - iteration 30 of 31.\n",
      "Done with random_normal - iteration 31 of 31.\n",
      "Done with random_uniform - iteration 1 of 31.\n",
      "Done with random_uniform - iteration 2 of 31.\n",
      "Done with random_uniform - iteration 3 of 31.\n",
      "Done with random_uniform - iteration 4 of 31.\n",
      "Done with random_uniform - iteration 5 of 31.\n",
      "Done with random_uniform - iteration 6 of 31.\n",
      "Done with random_uniform - iteration 7 of 31.\n",
      "Done with random_uniform - iteration 8 of 31.\n",
      "Done with random_uniform - iteration 9 of 31.\n",
      "Done with random_uniform - iteration 10 of 31.\n",
      "Done with random_uniform - iteration 11 of 31.\n",
      "Done with random_uniform - iteration 12 of 31.\n",
      "Done with random_uniform - iteration 13 of 31.\n",
      "Done with random_uniform - iteration 14 of 31.\n",
      "Done with random_uniform - iteration 15 of 31.\n",
      "Done with random_uniform - iteration 16 of 31.\n",
      "Done with random_uniform - iteration 17 of 31.\n",
      "Done with random_uniform - iteration 18 of 31.\n",
      "Done with random_uniform - iteration 19 of 31.\n",
      "Done with random_uniform - iteration 20 of 31.\n",
      "Done with random_uniform - iteration 21 of 31.\n",
      "Done with random_uniform - iteration 22 of 31.\n",
      "Done with random_uniform - iteration 23 of 31.\n",
      "Done with random_uniform - iteration 24 of 31.\n",
      "Done with random_uniform - iteration 25 of 31.\n",
      "Done with random_uniform - iteration 26 of 31.\n",
      "Done with random_uniform - iteration 27 of 31.\n",
      "Done with random_uniform - iteration 28 of 31.\n",
      "Done with random_uniform - iteration 29 of 31.\n",
      "Done with random_uniform - iteration 30 of 31.\n",
      "Done with random_uniform - iteration 31 of 31.\n",
      "Done with truncated_normal - iteration 1 of 31.\n",
      "Done with truncated_normal - iteration 2 of 31.\n",
      "Done with truncated_normal - iteration 3 of 31.\n",
      "Done with truncated_normal - iteration 4 of 31.\n",
      "Done with truncated_normal - iteration 5 of 31.\n",
      "Done with truncated_normal - iteration 6 of 31.\n",
      "Done with truncated_normal - iteration 7 of 31.\n",
      "Done with truncated_normal - iteration 8 of 31.\n",
      "Done with truncated_normal - iteration 9 of 31.\n",
      "Done with truncated_normal - iteration 10 of 31.\n",
      "Done with truncated_normal - iteration 11 of 31.\n",
      "Done with truncated_normal - iteration 12 of 31.\n",
      "Done with truncated_normal - iteration 13 of 31.\n",
      "Done with truncated_normal - iteration 14 of 31.\n",
      "Done with truncated_normal - iteration 15 of 31.\n",
      "Done with truncated_normal - iteration 16 of 31.\n",
      "Done with truncated_normal - iteration 17 of 31.\n",
      "Done with truncated_normal - iteration 18 of 31.\n",
      "Done with truncated_normal - iteration 19 of 31.\n",
      "Done with truncated_normal - iteration 20 of 31.\n",
      "Done with truncated_normal - iteration 21 of 31.\n",
      "Done with truncated_normal - iteration 22 of 31.\n",
      "Done with truncated_normal - iteration 23 of 31.\n",
      "Done with truncated_normal - iteration 24 of 31.\n",
      "Done with truncated_normal - iteration 25 of 31.\n",
      "Done with truncated_normal - iteration 26 of 31.\n",
      "Done with truncated_normal - iteration 27 of 31.\n",
      "Done with truncated_normal - iteration 28 of 31.\n",
      "Done with truncated_normal - iteration 29 of 31.\n",
      "Done with truncated_normal - iteration 30 of 31.\n",
      "Done with truncated_normal - iteration 31 of 31.\n",
      "Done with orthogonal - iteration 1 of 31.\n",
      "Done with orthogonal - iteration 2 of 31.\n",
      "Done with orthogonal - iteration 3 of 31.\n",
      "Done with orthogonal - iteration 4 of 31.\n",
      "Done with orthogonal - iteration 5 of 31.\n",
      "Done with orthogonal - iteration 6 of 31.\n",
      "Done with orthogonal - iteration 7 of 31.\n",
      "Done with orthogonal - iteration 8 of 31.\n",
      "Done with orthogonal - iteration 9 of 31.\n",
      "Done with orthogonal - iteration 10 of 31.\n",
      "Done with orthogonal - iteration 11 of 31.\n",
      "Done with orthogonal - iteration 12 of 31.\n",
      "Done with orthogonal - iteration 13 of 31.\n",
      "Done with orthogonal - iteration 14 of 31.\n",
      "Done with orthogonal - iteration 15 of 31.\n",
      "Done with orthogonal - iteration 16 of 31.\n",
      "Done with orthogonal - iteration 17 of 31.\n",
      "Done with orthogonal - iteration 18 of 31.\n",
      "Done with orthogonal - iteration 19 of 31.\n",
      "Done with orthogonal - iteration 20 of 31.\n",
      "Done with orthogonal - iteration 21 of 31.\n",
      "Done with orthogonal - iteration 22 of 31.\n",
      "Done with orthogonal - iteration 23 of 31.\n",
      "Done with orthogonal - iteration 24 of 31.\n",
      "Done with orthogonal - iteration 25 of 31.\n",
      "Done with orthogonal - iteration 26 of 31.\n",
      "Done with orthogonal - iteration 27 of 31.\n",
      "Done with orthogonal - iteration 28 of 31.\n",
      "Done with orthogonal - iteration 29 of 31.\n",
      "Done with orthogonal - iteration 30 of 31.\n",
      "Done with orthogonal - iteration 31 of 31.\n"
     ]
    }
   ],
   "source": [
    "param_dict = {'lecun_normal' : 'lecun_normal', \n",
    "              'lecun_uniform' : 'lecun_uniform', \n",
    "              'glorot_normal' : 'glorot_normal', \n",
    "              'glorot_uniform' : 'glorot_uniform', \n",
    "              'he_normal' : 'he_normal', \n",
    "              'he_uniform' : 'he_uniform', \n",
    "              'random_normal' : 'random_normal',\n",
    "              'random_uniform' : 'random_uniform',\n",
    "              'truncated_normal' : 'truncated_normal',\n",
    "              #'variance_scaling' : 'variance_scaling',\n",
    "              'orthogonal' : 'orthogonal',\n",
    "             }\n",
    "\n",
    "result = mltb.tools.multi_param_call(fit, param_dict, 31)"
   ]
  },
  {
   "cell_type": "code",
   "execution_count": 9,
   "metadata": {
    "colab": {
     "base_uri": "https://localhost:8080/",
     "height": 402
    },
    "colab_type": "code",
    "id": "Vys6lw-_2NXC",
    "outputId": "223e34ab-078b-4a64-c9e9-e40451fb228c"
   },
   "outputs": [
    {
     "data": {
      "image/png": "[encoded data removed]",
      "text/plain": [
       "<Figure size 432x288 with 1 Axes>"
      ]
     },
     "metadata": {
      "needs_background": "light"
     },
     "output_type": "display_data"
    }
   ],
   "source": [
    "mltb.plot.boxplot_dict(result['best_val_acc'], \n",
    "                       ylabel='Validation accuracy', \n",
    "                       title='Boxplots of validation accuracy',\n",
    "                       vert=False\n",
    "                      )"
   ]
  },
  {
   "cell_type": "code",
   "execution_count": 10,
   "metadata": {
    "colab": {},
    "colab_type": "code",
    "id": "m55_HILCwR6i"
   },
   "outputs": [
    {
     "name": "stdout",
     "output_type": "stream",
     "text": [
      "p-value for best_val_acc: {('lecun_normal', 'lecun_uniform'): 0.14043183957632277, ('lecun_normal', 'glorot_normal'): 0.953547085534721, ('lecun_normal', 'glorot_uniform'): 0.7933332199330152, ('lecun_normal', 'he_normal'): 0.8147554921839637, ('lecun_normal', 'he_uniform'): 0.5123362984578037, ('lecun_normal', 'random_normal'): 0.003885863239678655, ('lecun_normal', 'random_uniform'): 0.0004026565307537859, ('lecun_normal', 'truncated_normal'): 0.0023657673858458405, ('lecun_normal', 'orthogonal'): 0.9305663601093894, ('lecun_uniform', 'glorot_normal'): 0.07396029589681084, ('lecun_uniform', 'glorot_uniform'): 0.28039563109823906, ('lecun_uniform', 'he_normal'): 0.16233762859837236, ('lecun_uniform', 'he_uniform'): 0.40543326905122756, ('lecun_uniform', 'random_normal'): 0.10781645121349803, ('lecun_uniform', 'random_uniform'): 0.02024625244352952, ('lecun_uniform', 'truncated_normal'): 0.10299288753743277, ('lecun_uniform', 'orthogonal'): 0.13171459974012698, ('glorot_normal', 'glorot_uniform'): 0.7287539805805114, ('glorot_normal', 'he_normal'): 0.7297839538710923, ('glorot_normal', 'he_uniform'): 0.41236505334410456, ('glorot_normal', 'random_normal'): 0.0006892271775537731, ('glorot_normal', 'random_uniform'): 3.0013631655125468e-05, ('glorot_normal', 'truncated_normal'): 0.00018733105528751445, ('glorot_normal', 'orthogonal'): 0.867384861652316, ('glorot_uniform', 'he_normal'): 0.9433667876594304, ('glorot_uniform', 'he_uniform'): 0.7374654231829101, ('glorot_uniform', 'random_normal'): 0.016106606960581155, ('glorot_uniform', 'random_uniform'): 0.002703447795305571, ('glorot_uniform', 'truncated_normal'): 0.013416393310221809, ('glorot_uniform', 'orthogonal'): 0.842349640931778, ('he_normal', 'he_uniform'): 0.6281572379377198, ('he_normal', 'random_normal'): 0.002977005766356897, ('he_normal', 'random_uniform'): 0.0002063368160965219, ('he_normal', 'truncated_normal'): 0.0013477367286604655, ('he_normal', 'orthogonal'): 0.8740340335498263, ('he_uniform', 'random_normal'): 0.019472779899530595, ('he_uniform', 'random_uniform'): 0.0025420566733279385, ('he_uniform', 'truncated_normal'): 0.014648860452747093, ('he_uniform', 'orthogonal'): 0.5368270653574803, ('random_normal', 'random_uniform'): 0.5018662233320466, ('random_normal', 'truncated_normal'): 0.8363458806608726, ('random_normal', 'orthogonal'): 0.0024472187042141927, ('random_uniform', 'truncated_normal'): 0.32191418305753206, ('random_uniform', 'orthogonal'): 0.0001802447872777753, ('truncated_normal', 'orthogonal'): 0.0011472411947916203}\n"
     ]
    }
   ],
   "source": [
    "print('p-value for best_val_acc:', mltb.tools.ttest_combinations(result['best_val_acc']))"
   ]
  },
  {
   "cell_type": "code",
   "execution_count": 11,
   "metadata": {},
   "outputs": [
    {
     "data": {
      "image/png": "[encoded data removed]",
      "text/plain": [
       "<Figure size 432x288 with 1 Axes>"
      ]
     },
     "metadata": {
      "needs_background": "light"
     },
     "output_type": "display_data"
    }
   ],
   "source": [
    "mltb.plot.boxplot_dict(result['best_val_acc_epoch'], \n",
    "                       ylabel='Best validation accuracy epoch number', \n",
    "                       title='Boxplots of best validation accuracy epoch',\n",
    "                       vert=False\n",
    "                      )"
   ]
  },
  {
   "cell_type": "code",
   "execution_count": 12,
   "metadata": {},
   "outputs": [
    {
     "name": "stdout",
     "output_type": "stream",
     "text": [
      "p-value for best_val_acc_epoch: {('lecun_normal', 'lecun_uniform'): 0.2041616692233177, ('lecun_normal', 'glorot_normal'): 0.6596671987423317, ('lecun_normal', 'glorot_uniform'): 0.42670771070707403, ('lecun_normal', 'he_normal'): 0.18165958515892636, ('lecun_normal', 'he_uniform'): 1.0, ('lecun_normal', 'random_normal'): 0.14159348890658244, ('lecun_normal', 'random_uniform'): 0.09603996690053318, ('lecun_normal', 'truncated_normal'): 0.6371641195944253, ('lecun_normal', 'orthogonal'): 0.9107674543366988, ('lecun_uniform', 'glorot_normal'): 0.3947490375658138, ('lecun_uniform', 'glorot_uniform'): 0.08189126222800973, ('lecun_uniform', 'he_normal'): 0.8631371909043768, ('lecun_uniform', 'he_uniform'): 0.22346155855192587, ('lecun_uniform', 'random_normal'): 0.006848574023422715, ('lecun_uniform', 'random_uniform'): 0.006206164222536009, ('lecun_uniform', 'truncated_normal'): 0.1098666545090163, ('lecun_uniform', 'orthogonal'): 0.2088382748765844, ('glorot_normal', 'glorot_uniform'): 0.2593849489718344, ('glorot_normal', 'he_normal'): 0.34094028801518195, ('glorot_normal', 'he_uniform'): 0.6732729652683964, ('glorot_normal', 'random_normal'): 0.05454723322565355, ('glorot_normal', 'random_uniform'): 0.039793186789767086, ('glorot_normal', 'truncated_normal'): 0.38559232865961957, ('glorot_normal', 'orthogonal'): 0.610439878162208, ('glorot_uniform', 'he_normal'): 0.07413049417689058, ('glorot_uniform', 'he_uniform'): 0.4379609889142232, ('glorot_uniform', 'random_normal'): 0.758533755808753, ('glorot_uniform', 'random_uniform'): 0.5558633522107883, ('glorot_uniform', 'truncated_normal'): 0.7094690438024276, ('glorot_uniform', 'orthogonal'): 0.5090652655586727, ('he_normal', 'he_uniform'): 0.19747028061203395, ('he_normal', 'random_normal'): 0.008076612261107318, ('he_normal', 'random_uniform'): 0.0067732081604054105, ('he_normal', 'truncated_normal'): 0.09993910917749803, ('he_normal', 'orthogonal'): 0.18466852816328497, ('he_uniform', 'random_normal'): 0.15910408912549914, ('he_uniform', 'random_uniform'): 0.10733240376003242, ('he_uniform', 'truncated_normal'): 0.6484953546459651, ('he_uniform', 'orthogonal'): 0.913803207011123, ('random_normal', 'random_uniform'): 0.6956561537609345, ('random_normal', 'truncated_normal'): 0.40007807926347294, ('random_normal', 'orthogonal'): 0.2250240889181339, ('random_uniform', 'truncated_normal'): 0.269523731167693, ('random_uniform', 'orthogonal'): 0.15105996944913652, ('truncated_normal', 'orthogonal'): 0.740006338971936}\n"
     ]
    }
   ],
   "source": [
    "print('p-value for best_val_acc_epoch:', mltb.tools.ttest_combinations(result['best_val_acc_epoch']))"
   ]
  },
  {
   "cell_type": "code",
   "execution_count": null,
   "metadata": {},
   "outputs": [],
   "source": []
  }
 ],
 "metadata": {
  "accelerator": "GPU",
  "colab": {
   "collapsed_sections": [],
   "name": "scaling+relu.ipynb",
   "provenance": [],
   "version": "0.3.2"
  },
  "kernelspec": {
   "display_name": "Python 3",
   "language": "python",
   "name": "python3"
  },
  "language_info": {
   "codemirror_mode": {
    "name": "ipython",
    "version": 3
   },
   "file_extension": ".py",
   "mimetype": "text/x-python",
   "name": "python",
   "nbconvert_exporter": "python",
   "pygments_lexer": "ipython3",
   "version": "3.6.7"
  }
 },
 "nbformat": 4,
 "nbformat_minor": 1
}
