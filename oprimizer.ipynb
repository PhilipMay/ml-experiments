{
 "cells": [
  {
   "cell_type": "markdown",
   "metadata": {},
   "source": [
    "# Experiment to compare different Keras optimizer."
   ]
  },
  {
   "cell_type": "code",
   "execution_count": 1,
   "metadata": {},
   "outputs": [
    {
     "name": "stdout",
     "output_type": "stream",
     "text": [
      "Requirement already satisfied: mltb==0.0.10 in /usr/local/miniconda3/envs/py36/lib/python3.6/site-packages (0.0.10)\n",
      "Requirement already satisfied: keras in /usr/local/miniconda3/envs/py36/lib/python3.6/site-packages (from mltb==0.0.10) (2.2.4)\n",
      "Requirement already satisfied: numpy in /usr/local/miniconda3/envs/py36/lib/python3.6/site-packages (from mltb==0.0.10) (1.15.2)\n",
      "Requirement already satisfied: sklearn in /usr/local/miniconda3/envs/py36/lib/python3.6/site-packages (from mltb==0.0.10) (0.0)\n",
      "Requirement already satisfied: matplotlib in /usr/local/miniconda3/envs/py36/lib/python3.6/site-packages (from mltb==0.0.10) (3.0.1)\n",
      "Requirement already satisfied: keras-preprocessing>=1.0.5 in /usr/local/miniconda3/envs/py36/lib/python3.6/site-packages (from keras->mltb==0.0.10) (1.0.5)\n",
      "Requirement already satisfied: six>=1.9.0 in /usr/local/miniconda3/envs/py36/lib/python3.6/site-packages (from keras->mltb==0.0.10) (1.11.0)\n",
      "Requirement already satisfied: h5py in /usr/local/miniconda3/envs/py36/lib/python3.6/site-packages (from keras->mltb==0.0.10) (2.8.0)\n",
      "Requirement already satisfied: keras-applications>=1.0.6 in /usr/local/miniconda3/envs/py36/lib/python3.6/site-packages (from keras->mltb==0.0.10) (1.0.6)\n",
      "Requirement already satisfied: scipy>=0.14 in /usr/local/miniconda3/envs/py36/lib/python3.6/site-packages (from keras->mltb==0.0.10) (1.1.0)\n",
      "Requirement already satisfied: pyyaml in /usr/local/miniconda3/envs/py36/lib/python3.6/site-packages (from keras->mltb==0.0.10) (3.13)\n",
      "Requirement already satisfied: scikit-learn in /usr/local/miniconda3/envs/py36/lib/python3.6/site-packages (from sklearn->mltb==0.0.10) (0.20.0)\n",
      "Requirement already satisfied: cycler>=0.10 in /usr/local/miniconda3/envs/py36/lib/python3.6/site-packages (from matplotlib->mltb==0.0.10) (0.10.0)\n",
      "Requirement already satisfied: kiwisolver>=1.0.1 in /usr/local/miniconda3/envs/py36/lib/python3.6/site-packages (from matplotlib->mltb==0.0.10) (1.0.1)\n",
      "Requirement already satisfied: python-dateutil>=2.1 in /usr/local/miniconda3/envs/py36/lib/python3.6/site-packages (from matplotlib->mltb==0.0.10) (2.7.5)\n",
      "Requirement already satisfied: pyparsing!=2.0.4,!=2.1.2,!=2.1.6,>=2.0.1 in /usr/local/miniconda3/envs/py36/lib/python3.6/site-packages (from matplotlib->mltb==0.0.10) (2.3.0)\n",
      "Requirement already satisfied: setuptools in /usr/local/miniconda3/envs/py36/lib/python3.6/site-packages (from kiwisolver>=1.0.1->matplotlib->mltb==0.0.10) (39.1.0)\n"
     ]
    }
   ],
   "source": [
    "# load the mltb lib - see here: https://github.com/PhilipMay/mltb\n",
    "!pip install mltb==0.0.10"
   ]
  },
  {
   "cell_type": "code",
   "execution_count": 2,
   "metadata": {
    "colab": {
     "base_uri": "https://localhost:8080/",
     "height": 332
    },
    "colab_type": "code",
    "id": "yeZ2qSzGy600",
    "outputId": "37724a00-6b36-4c44-8a1e-057339d4e575"
   },
   "outputs": [
    {
     "name": "stderr",
     "output_type": "stream",
     "text": [
      "Using TensorFlow backend.\n"
     ]
    }
   ],
   "source": [
    "import mltb\n",
    "import numpy as np\n",
    "from keras.datasets import mnist\n",
    "from keras.utils import to_categorical\n",
    "from keras import models\n",
    "from keras import layers\n",
    "from keras.callbacks import EarlyStopping\n",
    "\n",
    "%matplotlib inline"
   ]
  },
  {
   "cell_type": "code",
   "execution_count": 3,
   "metadata": {
    "colab": {},
    "colab_type": "code",
    "id": "TCpiHwDWzBP9"
   },
   "outputs": [],
   "source": [
    "# load MNIST data\n",
    "(train_images, train_labels), (val_images, val_labels) = mnist.load_data()"
   ]
  },
  {
   "cell_type": "code",
   "execution_count": 4,
   "metadata": {
    "colab": {
     "base_uri": "https://localhost:8080/",
     "height": 86
    },
    "colab_type": "code",
    "id": "XsZCVOx1zEVw",
    "outputId": "a79713bd-fdb1-4384-fe5e-62117c9ed453"
   },
   "outputs": [
    {
     "name": "stdout",
     "output_type": "stream",
     "text": [
      "train_images.shape: (60000, 28, 28)\n",
      "train_labels.shape: (60000,)\n",
      "val_images.shape: (10000, 28, 28)\n",
      "val_labels.shape: (10000,)\n"
     ]
    }
   ],
   "source": [
    "# show shape of data\n",
    "print(\"train_images.shape:\", train_images.shape)\n",
    "print(\"train_labels.shape:\", train_labels.shape)\n",
    "print(\"val_images.shape:\", val_images.shape)\n",
    "print(\"val_labels.shape:\", val_labels.shape)"
   ]
  },
  {
   "cell_type": "code",
   "execution_count": 5,
   "metadata": {},
   "outputs": [],
   "source": [
    "# one hot encode the labels\n",
    "train_labels = to_categorical(train_labels)\n",
    "val_labels = to_categorical(val_labels)"
   ]
  },
  {
   "cell_type": "code",
   "execution_count": 6,
   "metadata": {},
   "outputs": [],
   "source": [
    "# flatten the data so we can send it to dense layer\n",
    "train_images = train_images.reshape((60000, 28 * 28))\n",
    "val_images = val_images.reshape((10000, 28 * 28))"
   ]
  },
  {
   "cell_type": "code",
   "execution_count": 7,
   "metadata": {},
   "outputs": [],
   "source": [
    "# normalization (min-max scaling) to 0 to 1\n",
    "train_images = train_images.astype('float32') / 255\n",
    "val_images = val_images.astype('float32') / 255"
   ]
  },
  {
   "cell_type": "code",
   "execution_count": 8,
   "metadata": {},
   "outputs": [],
   "source": [
    "#network with BatchNormalization and without bias (use_bias=False)\n",
    "def network():\n",
    "    network = models.Sequential()\n",
    "    network.add(layers.Dense(100, use_bias=False, input_shape=(28 * 28,)))\n",
    "    network.add(layers.BatchNormalization())\n",
    "    network.add(layers.Activation('relu'))\n",
    "    network.add(layers.Dense(100, use_bias=False))\n",
    "    network.add(layers.BatchNormalization())\n",
    "    network.add(layers.Activation('relu')) \n",
    "    network.add(layers.Dense(100, use_bias=False))\n",
    "    network.add(layers.BatchNormalization())\n",
    "    network.add(layers.Activation('relu'))\n",
    "    network.add(layers.Dense(10, activation='softmax'))\n",
    "    return network"
   ]
  },
  {
   "cell_type": "code",
   "execution_count": 9,
   "metadata": {},
   "outputs": [
    {
     "name": "stdout",
     "output_type": "stream",
     "text": [
      "_________________________________________________________________\n",
      "Layer (type)                 Output Shape              Param #   \n",
      "=================================================================\n",
      "dense_1 (Dense)              (None, 100)               78400     \n",
      "_________________________________________________________________\n",
      "batch_normalization_1 (Batch (None, 100)               400       \n",
      "_________________________________________________________________\n",
      "activation_1 (Activation)    (None, 100)               0         \n",
      "_________________________________________________________________\n",
      "dense_2 (Dense)              (None, 100)               10000     \n",
      "_________________________________________________________________\n",
      "batch_normalization_2 (Batch (None, 100)               400       \n",
      "_________________________________________________________________\n",
      "activation_2 (Activation)    (None, 100)               0         \n",
      "_________________________________________________________________\n",
      "dense_3 (Dense)              (None, 100)               10000     \n",
      "_________________________________________________________________\n",
      "batch_normalization_3 (Batch (None, 100)               400       \n",
      "_________________________________________________________________\n",
      "activation_3 (Activation)    (None, 100)               0         \n",
      "_________________________________________________________________\n",
      "dense_4 (Dense)              (None, 10)                1010      \n",
      "=================================================================\n",
      "Total params: 100,610\n",
      "Trainable params: 100,010\n",
      "Non-trainable params: 600\n",
      "_________________________________________________________________\n"
     ]
    }
   ],
   "source": [
    "# print summary representation of network\n",
    "network().summary()"
   ]
  },
  {
   "cell_type": "code",
   "execution_count": 10,
   "metadata": {},
   "outputs": [],
   "source": [
    "# create the different networks, fit them and return results\n",
    "def fit(value):\n",
    "    _network = network()\n",
    "        \n",
    "    _network.compile(optimizer=value,\n",
    "                loss='categorical_crossentropy',\n",
    "                metrics=['accuracy'])\n",
    " \n",
    "    es = EarlyStopping(monitor='val_acc', patience=5, mode='max')\n",
    "    \n",
    "    history = _network.fit(train_images, train_labels, \n",
    "                          validation_data=(val_images, val_labels), \n",
    "                          epochs=100, \n",
    "                          callbacks=[es],\n",
    "                          verbose=0,\n",
    "                          batch_size=128)\n",
    "    \n",
    "    best_val_acc = max(history.history['val_acc'])\n",
    "    \n",
    "    best_val_acc_epoch = history.history['val_acc'].index(best_val_acc) + 1\n",
    "    \n",
    "    return {'best_val_acc' : best_val_acc, 'best_val_acc_epoch' : best_val_acc_epoch}"
   ]
  },
  {
   "cell_type": "code",
   "execution_count": 11,
   "metadata": {
    "colab": {
     "base_uri": "https://localhost:8080/",
     "height": 2816
    },
    "colab_type": "code",
    "id": "ysDBwTkk2IyV",
    "outputId": "2bdc5c9a-aeb9-4a30-9fc0-a8b01e6758c6"
   },
   "outputs": [
    {
     "name": "stdout",
     "output_type": "stream",
     "text": [
      "Done with Adam - iteration 1 of 1.\n",
      "Done with Adamax - iteration 1 of 1.\n",
      "Done with Nadam - iteration 1 of 1.\n"
     ]
    }
   ],
   "source": [
    "# dict with call params\n",
    "param_dict = {'Adam' : 'adam', \n",
    "              'Adamax' : 'adamax', \n",
    "              'Nadam' : 'nadam', \n",
    "             }\n",
    "\n",
    "# fit the networks many times and return the result\n",
    "# see here: https://github.com/PhilipMay/mltb/blob/master/mltb/tools.py\n",
    "result = mltb.tools.multi_param_call(fit, param_dict, 31)"
   ]
  },
  {
   "cell_type": "code",
   "execution_count": 12,
   "metadata": {},
   "outputs": [
    {
     "name": "stdout",
     "output_type": "stream",
     "text": [
      "{'best_val_acc': {'Adam': [0.9796], 'Adamax': [0.98], 'Nadam': [0.9792]}, 'best_val_acc_epoch': {'Adam': [9], 'Adamax': [6], 'Nadam': [13]}}\n"
     ]
    }
   ],
   "source": [
    "#print the result\n",
    "print(result)"
   ]
  },
  {
   "cell_type": "code",
   "execution_count": 13,
   "metadata": {
    "colab": {
     "base_uri": "https://localhost:8080/",
     "height": 402
    },
    "colab_type": "code",
    "id": "Vys6lw-_2NXC",
    "outputId": "223e34ab-078b-4a64-c9e9-e40451fb228c"
   },
   "outputs": [
    {
     "data": {
      "image/png": "[encoded data removed]",
      "text/plain": [
       "<Figure size 432x288 with 1 Axes>"
      ]
     },
     "metadata": {
      "needs_background": "light"
     },
     "output_type": "display_data"
    }
   ],
   "source": [
    "# print boxplots to compare validation accuracy of both results \n",
    "# see here: https://github.com/PhilipMay/mltb/blob/master/mltb/plot.py\n",
    "mltb.plot.boxplot_dict(result['best_val_acc'], \n",
    "                       ylabel='Validation accuracy', \n",
    "                       title='Boxplots of validation accuracy'\n",
    "                      )"
   ]
  },
  {
   "cell_type": "code",
   "execution_count": 14,
   "metadata": {
    "colab": {},
    "colab_type": "code",
    "id": "m55_HILCwR6i"
   },
   "outputs": [
    {
     "name": "stdout",
     "output_type": "stream",
     "text": [
      "p-value for best_val_acc: {('Adam', 'Adamax'): nan, ('Adam', 'Nadam'): nan, ('Adamax', 'Nadam'): nan}\n"
     ]
    },
    {
     "name": "stderr",
     "output_type": "stream",
     "text": [
      "/usr/local/miniconda3/envs/py36/lib/python3.6/site-packages/numpy/core/fromnumeric.py:3157: RuntimeWarning: Degrees of freedom <= 0 for slice\n",
      "  **kwargs)\n",
      "/usr/local/miniconda3/envs/py36/lib/python3.6/site-packages/numpy/core/_methods.py:132: RuntimeWarning: invalid value encountered in double_scalars\n",
      "  ret = ret.dtype.type(ret / rcount)\n"
     ]
    }
   ],
   "source": [
    "# p-value for validation accuracy - can we reject the null hypothesis?\n",
    "# see here: https://github.com/PhilipMay/mltb/blob/master/mltb/tools.py\n",
    "print('p-value for best_val_acc:', mltb.tools.ttest_combinations(result['best_val_acc']))"
   ]
  },
  {
   "cell_type": "code",
   "execution_count": 15,
   "metadata": {},
   "outputs": [
    {
     "data": {
      "image/png": "[encoded data removed]",
      "text/plain": [
       "<Figure size 432x288 with 1 Axes>"
      ]
     },
     "metadata": {
      "needs_background": "light"
     },
     "output_type": "display_data"
    }
   ],
   "source": [
    "# print boxplots to compare wich epoch had the best validation accuracy (how fast the network learns)\n",
    "# see here: https://github.com/PhilipMay/mltb/blob/master/mltb/plot.py\n",
    "mltb.plot.boxplot_dict(result['best_val_acc_epoch'], \n",
    "                       ylabel='Best validation accuracy epoch number', \n",
    "                       title='Boxplots of best validation accuracy epoch (how fast the network learns)'\n",
    "                      )"
   ]
  },
  {
   "cell_type": "code",
   "execution_count": 16,
   "metadata": {},
   "outputs": [
    {
     "name": "stdout",
     "output_type": "stream",
     "text": [
      "p-value for best_val_acc_epoch: {('Adam', 'Adamax'): nan, ('Adam', 'Nadam'): nan, ('Adamax', 'Nadam'): nan}\n"
     ]
    }
   ],
   "source": [
    "# p-value for best validation accuracy epoch - can we reject the null hypothesis?\n",
    "# see here: https://github.com/PhilipMay/mltb/blob/master/mltb/tools.py\n",
    "print('p-value for best_val_acc_epoch:', mltb.tools.ttest_combinations(result['best_val_acc_epoch']))"
   ]
  }
 ],
 "metadata": {
  "accelerator": "GPU",
  "colab": {
   "collapsed_sections": [],
   "name": "scaling+relu.ipynb",
   "provenance": [],
   "version": "0.3.2"
  },
  "kernelspec": {
   "display_name": "Python 3",
   "language": "python",
   "name": "python3"
  },
  "language_info": {
   "codemirror_mode": {
    "name": "ipython",
    "version": 3
   },
   "file_extension": ".py",
   "mimetype": "text/x-python",
   "name": "python",
   "nbconvert_exporter": "python",
   "pygments_lexer": "ipython3",
   "version": "3.6.7"
  }
 },
 "nbformat": 4,
 "nbformat_minor": 1
}
