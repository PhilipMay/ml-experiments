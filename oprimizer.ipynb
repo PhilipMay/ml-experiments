{
 "cells": [
  {
   "cell_type": "markdown",
   "metadata": {},
   "source": [
    "# Experiment to compare different Keras optimizer."
   ]
  },
  {
   "cell_type": "code",
   "execution_count": 1,
   "metadata": {},
   "outputs": [
    {
     "name": "stdout",
     "output_type": "stream",
     "text": [
      "Requirement already satisfied: mltb==0.0.12 in /home/phmay/miniconda3/envs/py36/lib/python3.6/site-packages (0.0.12)\n",
      "Requirement already satisfied: keras in /home/phmay/miniconda3/envs/py36/lib/python3.6/site-packages (from mltb==0.0.12) (2.2.4)\n",
      "Requirement already satisfied: sklearn in /home/phmay/miniconda3/envs/py36/lib/python3.6/site-packages (from mltb==0.0.12) (0.0)\n",
      "Requirement already satisfied: matplotlib in /home/phmay/miniconda3/envs/py36/lib/python3.6/site-packages (from mltb==0.0.12) (3.0.2)\n",
      "Requirement already satisfied: numpy in /home/phmay/miniconda3/envs/py36/lib/python3.6/site-packages (from mltb==0.0.12) (1.15.4)\n",
      "Requirement already satisfied: pyyaml in /home/phmay/miniconda3/envs/py36/lib/python3.6/site-packages (from keras->mltb==0.0.12) (3.13)\n",
      "Requirement already satisfied: scipy>=0.14 in /home/phmay/miniconda3/envs/py36/lib/python3.6/site-packages (from keras->mltb==0.0.12) (1.2.0)\n",
      "Requirement already satisfied: h5py in /home/phmay/miniconda3/envs/py36/lib/python3.6/site-packages (from keras->mltb==0.0.12) (2.9.0)\n",
      "Requirement already satisfied: keras-preprocessing>=1.0.5 in /home/phmay/miniconda3/envs/py36/lib/python3.6/site-packages (from keras->mltb==0.0.12) (1.0.5)\n",
      "Requirement already satisfied: six>=1.9.0 in /home/phmay/miniconda3/envs/py36/lib/python3.6/site-packages (from keras->mltb==0.0.12) (1.12.0)\n",
      "Requirement already satisfied: keras-applications>=1.0.6 in /home/phmay/miniconda3/envs/py36/lib/python3.6/site-packages (from keras->mltb==0.0.12) (1.0.6)\n",
      "Requirement already satisfied: scikit-learn in /home/phmay/miniconda3/envs/py36/lib/python3.6/site-packages (from sklearn->mltb==0.0.12) (0.20.2)\n",
      "Requirement already satisfied: kiwisolver>=1.0.1 in /home/phmay/miniconda3/envs/py36/lib/python3.6/site-packages (from matplotlib->mltb==0.0.12) (1.0.1)\n",
      "Requirement already satisfied: python-dateutil>=2.1 in /home/phmay/miniconda3/envs/py36/lib/python3.6/site-packages (from matplotlib->mltb==0.0.12) (2.7.5)\n",
      "Requirement already satisfied: pyparsing!=2.0.4,!=2.1.2,!=2.1.6,>=2.0.1 in /home/phmay/miniconda3/envs/py36/lib/python3.6/site-packages (from matplotlib->mltb==0.0.12) (2.3.0)\n",
      "Requirement already satisfied: cycler>=0.10 in /home/phmay/miniconda3/envs/py36/lib/python3.6/site-packages (from matplotlib->mltb==0.0.12) (0.10.0)\n",
      "Requirement already satisfied: setuptools in /home/phmay/miniconda3/envs/py36/lib/python3.6/site-packages (from kiwisolver>=1.0.1->matplotlib->mltb==0.0.12) (40.6.3)\n"
     ]
    }
   ],
   "source": [
    "# load the mltb lib - see here: https://github.com/PhilipMay/mltb\n",
    "!pip install mltb==0.0.12"
   ]
  },
  {
   "cell_type": "code",
   "execution_count": 2,
   "metadata": {
    "colab": {
     "base_uri": "https://localhost:8080/",
     "height": 332
    },
    "colab_type": "code",
    "id": "yeZ2qSzGy600",
    "outputId": "37724a00-6b36-4c44-8a1e-057339d4e575"
   },
   "outputs": [
    {
     "name": "stderr",
     "output_type": "stream",
     "text": [
      "Using TensorFlow backend.\n"
     ]
    }
   ],
   "source": [
    "import mltb\n",
    "import numpy as np\n",
    "from keras.datasets import mnist\n",
    "from keras.utils import to_categorical\n",
    "from keras import models\n",
    "from keras import layers\n",
    "from keras.callbacks import EarlyStopping\n",
    "\n",
    "%matplotlib inline"
   ]
  },
  {
   "cell_type": "code",
   "execution_count": 3,
   "metadata": {
    "colab": {},
    "colab_type": "code",
    "id": "TCpiHwDWzBP9"
   },
   "outputs": [],
   "source": [
    "# load MNIST data\n",
    "(train_images, train_labels), (val_images, val_labels) = mnist.load_data()"
   ]
  },
  {
   "cell_type": "code",
   "execution_count": 4,
   "metadata": {
    "colab": {
     "base_uri": "https://localhost:8080/",
     "height": 86
    },
    "colab_type": "code",
    "id": "XsZCVOx1zEVw",
    "outputId": "a79713bd-fdb1-4384-fe5e-62117c9ed453"
   },
   "outputs": [
    {
     "name": "stdout",
     "output_type": "stream",
     "text": [
      "train_images.shape: (60000, 28, 28)\n",
      "train_labels.shape: (60000,)\n",
      "val_images.shape: (10000, 28, 28)\n",
      "val_labels.shape: (10000,)\n"
     ]
    }
   ],
   "source": [
    "# show shape of data\n",
    "print(\"train_images.shape:\", train_images.shape)\n",
    "print(\"train_labels.shape:\", train_labels.shape)\n",
    "print(\"val_images.shape:\", val_images.shape)\n",
    "print(\"val_labels.shape:\", val_labels.shape)"
   ]
  },
  {
   "cell_type": "code",
   "execution_count": 5,
   "metadata": {},
   "outputs": [],
   "source": [
    "# one hot encode the labels\n",
    "train_labels = to_categorical(train_labels)\n",
    "val_labels = to_categorical(val_labels)"
   ]
  },
  {
   "cell_type": "code",
   "execution_count": 6,
   "metadata": {},
   "outputs": [],
   "source": [
    "# flatten the data so we can send it to dense layer\n",
    "train_images = train_images.reshape((60000, 28 * 28))\n",
    "val_images = val_images.reshape((10000, 28 * 28))"
   ]
  },
  {
   "cell_type": "code",
   "execution_count": 7,
   "metadata": {},
   "outputs": [],
   "source": [
    "# normalization (min-max scaling) to 0 to 1\n",
    "train_images = train_images.astype('float32') / 255\n",
    "val_images = val_images.astype('float32') / 255"
   ]
  },
  {
   "cell_type": "code",
   "execution_count": 8,
   "metadata": {},
   "outputs": [],
   "source": [
    "#network with BatchNormalization and without bias (use_bias=False)\n",
    "def network():\n",
    "    network = models.Sequential()\n",
    "    network.add(layers.Dense(100, use_bias=False, input_shape=(28 * 28,)))\n",
    "    network.add(layers.BatchNormalization())\n",
    "    network.add(layers.Activation('relu'))\n",
    "    network.add(layers.Dense(100, use_bias=False))\n",
    "    network.add(layers.BatchNormalization())\n",
    "    network.add(layers.Activation('relu')) \n",
    "    network.add(layers.Dense(100, use_bias=False))\n",
    "    network.add(layers.BatchNormalization())\n",
    "    network.add(layers.Activation('relu'))\n",
    "    network.add(layers.Dense(10, activation='softmax'))\n",
    "    return network"
   ]
  },
  {
   "cell_type": "code",
   "execution_count": 9,
   "metadata": {
    "scrolled": true
   },
   "outputs": [
    {
     "name": "stdout",
     "output_type": "stream",
     "text": [
      "_________________________________________________________________\n",
      "Layer (type)                 Output Shape              Param #   \n",
      "=================================================================\n",
      "dense_1 (Dense)              (None, 100)               78400     \n",
      "_________________________________________________________________\n",
      "batch_normalization_1 (Batch (None, 100)               400       \n",
      "_________________________________________________________________\n",
      "activation_1 (Activation)    (None, 100)               0         \n",
      "_________________________________________________________________\n",
      "dense_2 (Dense)              (None, 100)               10000     \n",
      "_________________________________________________________________\n",
      "batch_normalization_2 (Batch (None, 100)               400       \n",
      "_________________________________________________________________\n",
      "activation_2 (Activation)    (None, 100)               0         \n",
      "_________________________________________________________________\n",
      "dense_3 (Dense)              (None, 100)               10000     \n",
      "_________________________________________________________________\n",
      "batch_normalization_3 (Batch (None, 100)               400       \n",
      "_________________________________________________________________\n",
      "activation_3 (Activation)    (None, 100)               0         \n",
      "_________________________________________________________________\n",
      "dense_4 (Dense)              (None, 10)                1010      \n",
      "=================================================================\n",
      "Total params: 100,610\n",
      "Trainable params: 100,010\n",
      "Non-trainable params: 600\n",
      "_________________________________________________________________\n"
     ]
    }
   ],
   "source": [
    "# print summary representation of network\n",
    "network().summary()"
   ]
  },
  {
   "cell_type": "code",
   "execution_count": 10,
   "metadata": {},
   "outputs": [],
   "source": [
    "# create the different networks, fit them and return results\n",
    "def fit(value):\n",
    "    _network = network()\n",
    "        \n",
    "    _network.compile(optimizer=value,\n",
    "                loss='categorical_crossentropy',\n",
    "                metrics=['accuracy'])\n",
    " \n",
    "    es = EarlyStopping(monitor='val_acc', patience=5, mode='max')\n",
    "    \n",
    "    history = _network.fit(train_images, train_labels, \n",
    "                          validation_data=(val_images, val_labels), \n",
    "                          epochs=100, \n",
    "                          callbacks=[es],\n",
    "                          verbose=0,\n",
    "                          batch_size=128)\n",
    "    \n",
    "    best_val_acc = max(history.history['val_acc'])\n",
    "    \n",
    "    best_val_acc_epoch = history.history['val_acc'].index(best_val_acc) + 1\n",
    "    \n",
    "    return {'best_val_acc' : best_val_acc, 'best_val_acc_epoch' : best_val_acc_epoch}"
   ]
  },
  {
   "cell_type": "code",
   "execution_count": 11,
   "metadata": {
    "colab": {
     "base_uri": "https://localhost:8080/",
     "height": 2816
    },
    "colab_type": "code",
    "id": "ysDBwTkk2IyV",
    "outputId": "2bdc5c9a-aeb9-4a30-9fc0-a8b01e6758c6"
   },
   "outputs": [
    {
     "name": "stdout",
     "output_type": "stream",
     "text": [
      "Done with iteration 1 of 41 for Adam. Result: {'best_val_acc': 0.9794, 'best_val_acc_epoch': 7}\n",
      "Done with iteration 2 of 41 for Adam. Result: {'best_val_acc': 0.98, 'best_val_acc_epoch': 16}\n",
      "Done with iteration 3 of 41 for Adam. Result: {'best_val_acc': 0.979, 'best_val_acc_epoch': 7}\n",
      "Done with iteration 4 of 41 for Adam. Result: {'best_val_acc': 0.977, 'best_val_acc_epoch': 9}\n",
      "Done with iteration 5 of 41 for Adam. Result: {'best_val_acc': 0.9788, 'best_val_acc_epoch': 7}\n",
      "Done with iteration 6 of 41 for Adam. Result: {'best_val_acc': 0.9785, 'best_val_acc_epoch': 11}\n",
      "Done with iteration 7 of 41 for Adam. Result: {'best_val_acc': 0.9781, 'best_val_acc_epoch': 8}\n",
      "Done with iteration 8 of 41 for Adam. Result: {'best_val_acc': 0.9802, 'best_val_acc_epoch': 13}\n",
      "Done with iteration 9 of 41 for Adam. Result: {'best_val_acc': 0.9775, 'best_val_acc_epoch': 8}\n",
      "Done with iteration 10 of 41 for Adam. Result: {'best_val_acc': 0.9807, 'best_val_acc_epoch': 21}\n",
      "Done with iteration 11 of 41 for Adam. Result: {'best_val_acc': 0.98, 'best_val_acc_epoch': 11}\n",
      "Done with iteration 12 of 41 for Adam. Result: {'best_val_acc': 0.9807, 'best_val_acc_epoch': 23}\n",
      "Done with iteration 13 of 41 for Adam. Result: {'best_val_acc': 0.9807, 'best_val_acc_epoch': 13}\n",
      "Done with iteration 14 of 41 for Adam. Result: {'best_val_acc': 0.9804, 'best_val_acc_epoch': 17}\n",
      "Done with iteration 15 of 41 for Adam. Result: {'best_val_acc': 0.9807, 'best_val_acc_epoch': 10}\n",
      "Done with iteration 16 of 41 for Adam. Result: {'best_val_acc': 0.9797, 'best_val_acc_epoch': 17}\n",
      "Done with iteration 17 of 41 for Adam. Result: {'best_val_acc': 0.9825, 'best_val_acc_epoch': 34}\n",
      "Done with iteration 18 of 41 for Adam. Result: {'best_val_acc': 0.9794, 'best_val_acc_epoch': 9}\n",
      "Done with iteration 19 of 41 for Adam. Result: {'best_val_acc': 0.9787, 'best_val_acc_epoch': 9}\n",
      "Done with iteration 20 of 41 for Adam. Result: {'best_val_acc': 0.9797, 'best_val_acc_epoch': 13}\n",
      "Done with iteration 21 of 41 for Adam. Result: {'best_val_acc': 0.9814, 'best_val_acc_epoch': 28}\n",
      "Done with iteration 22 of 41 for Adam. Result: {'best_val_acc': 0.9788, 'best_val_acc_epoch': 6}\n",
      "Done with iteration 23 of 41 for Adam. Result: {'best_val_acc': 0.979, 'best_val_acc_epoch': 5}\n",
      "Done with iteration 24 of 41 for Adam. Result: {'best_val_acc': 0.9817, 'best_val_acc_epoch': 22}\n",
      "Done with iteration 25 of 41 for Adam. Result: {'best_val_acc': 0.9809, 'best_val_acc_epoch': 12}\n",
      "Done with iteration 26 of 41 for Adam. Result: {'best_val_acc': 0.9795, 'best_val_acc_epoch': 8}\n",
      "Done with iteration 27 of 41 for Adam. Result: {'best_val_acc': 0.9801, 'best_val_acc_epoch': 18}\n",
      "Done with iteration 28 of 41 for Adam. Result: {'best_val_acc': 0.9796, 'best_val_acc_epoch': 6}\n",
      "Done with iteration 29 of 41 for Adam. Result: {'best_val_acc': 0.9795, 'best_val_acc_epoch': 12}\n",
      "Done with iteration 30 of 41 for Adam. Result: {'best_val_acc': 0.9814, 'best_val_acc_epoch': 13}\n",
      "Done with iteration 31 of 41 for Adam. Result: {'best_val_acc': 0.9795, 'best_val_acc_epoch': 12}\n",
      "Done with iteration 32 of 41 for Adam. Result: {'best_val_acc': 0.9791, 'best_val_acc_epoch': 7}\n",
      "Done with iteration 33 of 41 for Adam. Result: {'best_val_acc': 0.9795, 'best_val_acc_epoch': 17}\n",
      "Done with iteration 34 of 41 for Adam. Result: {'best_val_acc': 0.9809, 'best_val_acc_epoch': 23}\n",
      "Done with iteration 35 of 41 for Adam. Result: {'best_val_acc': 0.9782, 'best_val_acc_epoch': 10}\n",
      "Done with iteration 36 of 41 for Adam. Result: {'best_val_acc': 0.979, 'best_val_acc_epoch': 13}\n",
      "Done with iteration 37 of 41 for Adam. Result: {'best_val_acc': 0.9814, 'best_val_acc_epoch': 23}\n",
      "Done with iteration 38 of 41 for Adam. Result: {'best_val_acc': 0.9795, 'best_val_acc_epoch': 10}\n",
      "Done with iteration 39 of 41 for Adam. Result: {'best_val_acc': 0.9816, 'best_val_acc_epoch': 15}\n",
      "Done with iteration 40 of 41 for Adam. Result: {'best_val_acc': 0.9777, 'best_val_acc_epoch': 8}\n",
      "Done with iteration 41 of 41 for Adam. Result: {'best_val_acc': 0.9796, 'best_val_acc_epoch': 13}\n",
      "Done with iteration 1 of 41 for Adamax. Result: {'best_val_acc': 0.9773, 'best_val_acc_epoch': 11}\n",
      "Done with iteration 2 of 41 for Adamax. Result: {'best_val_acc': 0.9813, 'best_val_acc_epoch': 6}\n",
      "Done with iteration 3 of 41 for Adamax. Result: {'best_val_acc': 0.9799, 'best_val_acc_epoch': 20}\n",
      "Done with iteration 4 of 41 for Adamax. Result: {'best_val_acc': 0.979, 'best_val_acc_epoch': 10}\n",
      "Done with iteration 5 of 41 for Adamax. Result: {'best_val_acc': 0.9778, 'best_val_acc_epoch': 14}\n",
      "Done with iteration 6 of 41 for Adamax. Result: {'best_val_acc': 0.9814, 'best_val_acc_epoch': 20}\n",
      "Done with iteration 7 of 41 for Adamax. Result: {'best_val_acc': 0.9793, 'best_val_acc_epoch': 8}\n",
      "Done with iteration 8 of 41 for Adamax. Result: {'best_val_acc': 0.9813, 'best_val_acc_epoch': 25}\n",
      "Done with iteration 9 of 41 for Adamax. Result: {'best_val_acc': 0.978, 'best_val_acc_epoch': 12}\n",
      "Done with iteration 10 of 41 for Adamax. Result: {'best_val_acc': 0.9794, 'best_val_acc_epoch': 16}\n",
      "Done with iteration 11 of 41 for Adamax. Result: {'best_val_acc': 0.9785, 'best_val_acc_epoch': 10}\n",
      "Done with iteration 12 of 41 for Adamax. Result: {'best_val_acc': 0.9808, 'best_val_acc_epoch': 9}\n",
      "Done with iteration 13 of 41 for Adamax. Result: {'best_val_acc': 0.9816, 'best_val_acc_epoch': 22}\n",
      "Done with iteration 14 of 41 for Adamax. Result: {'best_val_acc': 0.9784, 'best_val_acc_epoch': 11}\n",
      "Done with iteration 15 of 41 for Adamax. Result: {'best_val_acc': 0.9802, 'best_val_acc_epoch': 12}\n",
      "Done with iteration 16 of 41 for Adamax. Result: {'best_val_acc': 0.9798, 'best_val_acc_epoch': 9}\n",
      "Done with iteration 17 of 41 for Adamax. Result: {'best_val_acc': 0.9778, 'best_val_acc_epoch': 6}\n",
      "Done with iteration 18 of 41 for Adamax. Result: {'best_val_acc': 0.9798, 'best_val_acc_epoch': 18}\n",
      "Done with iteration 19 of 41 for Adamax. Result: {'best_val_acc': 0.9794, 'best_val_acc_epoch': 14}\n",
      "Done with iteration 20 of 41 for Adamax. Result: {'best_val_acc': 0.9819, 'best_val_acc_epoch': 21}\n",
      "Done with iteration 21 of 41 for Adamax. Result: {'best_val_acc': 0.9794, 'best_val_acc_epoch': 9}\n",
      "Done with iteration 22 of 41 for Adamax. Result: {'best_val_acc': 0.9795, 'best_val_acc_epoch': 10}\n",
      "Done with iteration 23 of 41 for Adamax. Result: {'best_val_acc': 0.9807, 'best_val_acc_epoch': 27}\n",
      "Done with iteration 24 of 41 for Adamax. Result: {'best_val_acc': 0.9801, 'best_val_acc_epoch': 13}\n",
      "Done with iteration 25 of 41 for Adamax. Result: {'best_val_acc': 0.9787, 'best_val_acc_epoch': 12}\n",
      "Done with iteration 26 of 41 for Adamax. Result: {'best_val_acc': 0.981, 'best_val_acc_epoch': 18}\n",
      "Done with iteration 27 of 41 for Adamax. Result: {'best_val_acc': 0.9798, 'best_val_acc_epoch': 17}\n",
      "Done with iteration 28 of 41 for Adamax. Result: {'best_val_acc': 0.9795, 'best_val_acc_epoch': 10}\n",
      "Done with iteration 29 of 41 for Adamax. Result: {'best_val_acc': 0.9812, 'best_val_acc_epoch': 17}\n",
      "Done with iteration 30 of 41 for Adamax. Result: {'best_val_acc': 0.9804, 'best_val_acc_epoch': 9}\n",
      "Done with iteration 31 of 41 for Adamax. Result: {'best_val_acc': 0.9783, 'best_val_acc_epoch': 9}\n",
      "Done with iteration 32 of 41 for Adamax. Result: {'best_val_acc': 0.9758, 'best_val_acc_epoch': 6}\n",
      "Done with iteration 33 of 41 for Adamax. Result: {'best_val_acc': 0.979, 'best_val_acc_epoch': 12}\n",
      "Done with iteration 34 of 41 for Adamax. Result: {'best_val_acc': 0.9778, 'best_val_acc_epoch': 10}\n",
      "Done with iteration 35 of 41 for Adamax. Result: {'best_val_acc': 0.9795, 'best_val_acc_epoch': 12}\n",
      "Done with iteration 36 of 41 for Adamax. Result: {'best_val_acc': 0.9793, 'best_val_acc_epoch': 8}\n",
      "Done with iteration 37 of 41 for Adamax. Result: {'best_val_acc': 0.9796, 'best_val_acc_epoch': 19}\n",
      "Done with iteration 38 of 41 for Adamax. Result: {'best_val_acc': 0.9799, 'best_val_acc_epoch': 19}\n",
      "Done with iteration 39 of 41 for Adamax. Result: {'best_val_acc': 0.9807, 'best_val_acc_epoch': 14}\n",
      "Done with iteration 40 of 41 for Adamax. Result: {'best_val_acc': 0.9807, 'best_val_acc_epoch': 25}\n",
      "Done with iteration 41 of 41 for Adamax. Result: {'best_val_acc': 0.9808, 'best_val_acc_epoch': 19}\n",
      "Done with iteration 1 of 41 for Nadam. Result: {'best_val_acc': 0.981, 'best_val_acc_epoch': 13}\n",
      "Done with iteration 2 of 41 for Nadam. Result: {'best_val_acc': 0.9795, 'best_val_acc_epoch': 9}\n"
     ]
    },
    {
     "name": "stdout",
     "output_type": "stream",
     "text": [
      "Done with iteration 3 of 41 for Nadam. Result: {'best_val_acc': 0.9799, 'best_val_acc_epoch': 9}\n",
      "Done with iteration 4 of 41 for Nadam. Result: {'best_val_acc': 0.9796, 'best_val_acc_epoch': 9}\n",
      "Done with iteration 5 of 41 for Nadam. Result: {'best_val_acc': 0.9794, 'best_val_acc_epoch': 6}\n",
      "Done with iteration 6 of 41 for Nadam. Result: {'best_val_acc': 0.9814, 'best_val_acc_epoch': 19}\n",
      "Done with iteration 7 of 41 for Nadam. Result: {'best_val_acc': 0.9783, 'best_val_acc_epoch': 9}\n",
      "Done with iteration 8 of 41 for Nadam. Result: {'best_val_acc': 0.98, 'best_val_acc_epoch': 14}\n",
      "Done with iteration 9 of 41 for Nadam. Result: {'best_val_acc': 0.9793, 'best_val_acc_epoch': 8}\n",
      "Done with iteration 10 of 41 for Nadam. Result: {'best_val_acc': 0.982, 'best_val_acc_epoch': 18}\n",
      "Done with iteration 11 of 41 for Nadam. Result: {'best_val_acc': 0.9798, 'best_val_acc_epoch': 8}\n",
      "Done with iteration 12 of 41 for Nadam. Result: {'best_val_acc': 0.9828, 'best_val_acc_epoch': 22}\n",
      "Done with iteration 13 of 41 for Nadam. Result: {'best_val_acc': 0.9801, 'best_val_acc_epoch': 13}\n",
      "Done with iteration 14 of 41 for Nadam. Result: {'best_val_acc': 0.9773, 'best_val_acc_epoch': 3}\n",
      "Done with iteration 15 of 41 for Nadam. Result: {'best_val_acc': 0.979, 'best_val_acc_epoch': 8}\n",
      "Done with iteration 16 of 41 for Nadam. Result: {'best_val_acc': 0.9801, 'best_val_acc_epoch': 17}\n",
      "Done with iteration 17 of 41 for Nadam. Result: {'best_val_acc': 0.9805, 'best_val_acc_epoch': 10}\n",
      "Done with iteration 18 of 41 for Nadam. Result: {'best_val_acc': 0.9807, 'best_val_acc_epoch': 17}\n",
      "Done with iteration 19 of 41 for Nadam. Result: {'best_val_acc': 0.9803, 'best_val_acc_epoch': 11}\n",
      "Done with iteration 20 of 41 for Nadam. Result: {'best_val_acc': 0.9814, 'best_val_acc_epoch': 16}\n",
      "Done with iteration 21 of 41 for Nadam. Result: {'best_val_acc': 0.9803, 'best_val_acc_epoch': 11}\n",
      "Done with iteration 22 of 41 for Nadam. Result: {'best_val_acc': 0.9815, 'best_val_acc_epoch': 10}\n",
      "Done with iteration 23 of 41 for Nadam. Result: {'best_val_acc': 0.9819, 'best_val_acc_epoch': 20}\n",
      "Done with iteration 24 of 41 for Nadam. Result: {'best_val_acc': 0.98, 'best_val_acc_epoch': 15}\n",
      "Done with iteration 25 of 41 for Nadam. Result: {'best_val_acc': 0.9776, 'best_val_acc_epoch': 7}\n",
      "Done with iteration 26 of 41 for Nadam. Result: {'best_val_acc': 0.9806, 'best_val_acc_epoch': 12}\n",
      "Done with iteration 27 of 41 for Nadam. Result: {'best_val_acc': 0.9813, 'best_val_acc_epoch': 23}\n",
      "Done with iteration 28 of 41 for Nadam. Result: {'best_val_acc': 0.9826, 'best_val_acc_epoch': 26}\n",
      "Done with iteration 29 of 41 for Nadam. Result: {'best_val_acc': 0.9805, 'best_val_acc_epoch': 12}\n",
      "Done with iteration 30 of 41 for Nadam. Result: {'best_val_acc': 0.9792, 'best_val_acc_epoch': 5}\n",
      "Done with iteration 31 of 41 for Nadam. Result: {'best_val_acc': 0.9783, 'best_val_acc_epoch': 8}\n",
      "Done with iteration 32 of 41 for Nadam. Result: {'best_val_acc': 0.9779, 'best_val_acc_epoch': 4}\n",
      "Done with iteration 33 of 41 for Nadam. Result: {'best_val_acc': 0.9792, 'best_val_acc_epoch': 7}\n",
      "Done with iteration 34 of 41 for Nadam. Result: {'best_val_acc': 0.9814, 'best_val_acc_epoch': 19}\n",
      "Done with iteration 35 of 41 for Nadam. Result: {'best_val_acc': 0.9782, 'best_val_acc_epoch': 5}\n",
      "Done with iteration 36 of 41 for Nadam. Result: {'best_val_acc': 0.9789, 'best_val_acc_epoch': 6}\n",
      "Done with iteration 37 of 41 for Nadam. Result: {'best_val_acc': 0.9806, 'best_val_acc_epoch': 13}\n",
      "Done with iteration 38 of 41 for Nadam. Result: {'best_val_acc': 0.9783, 'best_val_acc_epoch': 7}\n",
      "Done with iteration 39 of 41 for Nadam. Result: {'best_val_acc': 0.9816, 'best_val_acc_epoch': 23}\n",
      "Done with iteration 40 of 41 for Nadam. Result: {'best_val_acc': 0.9808, 'best_val_acc_epoch': 21}\n",
      "Done with iteration 41 of 41 for Nadam. Result: {'best_val_acc': 0.9794, 'best_val_acc_epoch': 12}\n"
     ]
    }
   ],
   "source": [
    "# dict with call params\n",
    "param_dict = {'Adam' : 'adam', \n",
    "              'Adamax' : 'adamax', \n",
    "              'Nadam' : 'nadam', \n",
    "             }\n",
    "\n",
    "# fit the networks many times and return the result\n",
    "# see here: https://github.com/PhilipMay/mltb/blob/master/mltb/tools.py\n",
    "result = mltb.tools.multi_param_call(fit, param_dict, 41)"
   ]
  },
  {
   "cell_type": "code",
   "execution_count": 12,
   "metadata": {},
   "outputs": [
    {
     "name": "stdout",
     "output_type": "stream",
     "text": [
      "{'best_val_acc': {'Adam': [0.9794, 0.98, 0.979, 0.977, 0.9788, 0.9785, 0.9781, 0.9802, 0.9775, 0.9807, 0.98, 0.9807, 0.9807, 0.9804, 0.9807, 0.9797, 0.9825, 0.9794, 0.9787, 0.9797, 0.9814, 0.9788, 0.979, 0.9817, 0.9809, 0.9795, 0.9801, 0.9796, 0.9795, 0.9814, 0.9795, 0.9791, 0.9795, 0.9809, 0.9782, 0.979, 0.9814, 0.9795, 0.9816, 0.9777, 0.9796], 'Adamax': [0.9773, 0.9813, 0.9799, 0.979, 0.9778, 0.9814, 0.9793, 0.9813, 0.978, 0.9794, 0.9785, 0.9808, 0.9816, 0.9784, 0.9802, 0.9798, 0.9778, 0.9798, 0.9794, 0.9819, 0.9794, 0.9795, 0.9807, 0.9801, 0.9787, 0.981, 0.9798, 0.9795, 0.9812, 0.9804, 0.9783, 0.9758, 0.979, 0.9778, 0.9795, 0.9793, 0.9796, 0.9799, 0.9807, 0.9807, 0.9808], 'Nadam': [0.981, 0.9795, 0.9799, 0.9796, 0.9794, 0.9814, 0.9783, 0.98, 0.9793, 0.982, 0.9798, 0.9828, 0.9801, 0.9773, 0.979, 0.9801, 0.9805, 0.9807, 0.9803, 0.9814, 0.9803, 0.9815, 0.9819, 0.98, 0.9776, 0.9806, 0.9813, 0.9826, 0.9805, 0.9792, 0.9783, 0.9779, 0.9792, 0.9814, 0.9782, 0.9789, 0.9806, 0.9783, 0.9816, 0.9808, 0.9794]}, 'best_val_acc_epoch': {'Adam': [7, 16, 7, 9, 7, 11, 8, 13, 8, 21, 11, 23, 13, 17, 10, 17, 34, 9, 9, 13, 28, 6, 5, 22, 12, 8, 18, 6, 12, 13, 12, 7, 17, 23, 10, 13, 23, 10, 15, 8, 13], 'Adamax': [11, 6, 20, 10, 14, 20, 8, 25, 12, 16, 10, 9, 22, 11, 12, 9, 6, 18, 14, 21, 9, 10, 27, 13, 12, 18, 17, 10, 17, 9, 9, 6, 12, 10, 12, 8, 19, 19, 14, 25, 19], 'Nadam': [13, 9, 9, 9, 6, 19, 9, 14, 8, 18, 8, 22, 13, 3, 8, 17, 10, 17, 11, 16, 11, 10, 20, 15, 7, 12, 23, 26, 12, 5, 8, 4, 7, 19, 5, 6, 13, 7, 23, 21, 12]}}\n"
     ]
    }
   ],
   "source": [
    "#print the result\n",
    "print(result)"
   ]
  },
  {
   "cell_type": "code",
   "execution_count": 13,
   "metadata": {
    "colab": {
     "base_uri": "https://localhost:8080/",
     "height": 402
    },
    "colab_type": "code",
    "id": "Vys6lw-_2NXC",
    "outputId": "223e34ab-078b-4a64-c9e9-e40451fb228c"
   },
   "outputs": [
    {
     "data": {
      "image/png": "[encoded data removed]",
      "text/plain": [
       "<Figure size 432x288 with 1 Axes>"
      ]
     },
     "metadata": {
      "needs_background": "light"
     },
     "output_type": "display_data"
    }
   ],
   "source": [
    "# print boxplots to compare validation accuracy of both results \n",
    "# see here: https://github.com/PhilipMay/mltb/blob/master/mltb/plot.py\n",
    "mltb.plot.boxplot_dict(result['best_val_acc'], \n",
    "                       ylabel='Validation accuracy', \n",
    "                       title='Boxplots of validation accuracy'\n",
    "                      )"
   ]
  },
  {
   "cell_type": "code",
   "execution_count": 14,
   "metadata": {
    "colab": {},
    "colab_type": "code",
    "id": "m55_HILCwR6i"
   },
   "outputs": [
    {
     "name": "stdout",
     "output_type": "stream",
     "text": [
      "p-value for best_val_acc: {('Adam', 'Adamax'): 0.6640020370627941, ('Adam', 'Nadam'): 0.2702731854302865, ('Adamax', 'Nadam'): 0.1412536513363727}\n"
     ]
    }
   ],
   "source": [
    "# p-value for validation accuracy - can we reject the null hypothesis?\n",
    "# see here: https://github.com/PhilipMay/mltb/blob/master/mltb/tools.py\n",
    "print('p-value for best_val_acc:', mltb.tools.ttest_combinations(result['best_val_acc']))"
   ]
  },
  {
   "cell_type": "code",
   "execution_count": 15,
   "metadata": {},
   "outputs": [
    {
     "data": {
      "image/png": "[encoded data removed]",
      "text/plain": [
       "<Figure size 432x288 with 1 Axes>"
      ]
     },
     "metadata": {
      "needs_background": "light"
     },
     "output_type": "display_data"
    }
   ],
   "source": [
    "# print boxplots to compare wich epoch had the best validation accuracy (how fast the network learns)\n",
    "# see here: https://github.com/PhilipMay/mltb/blob/master/mltb/plot.py\n",
    "mltb.plot.boxplot_dict(result['best_val_acc_epoch'], \n",
    "                       ylabel='Best validation accuracy epoch number', \n",
    "                       title='Boxplots of best validation accuracy epoch (how fast the network learns)'\n",
    "                      )"
   ]
  },
  {
   "cell_type": "code",
   "execution_count": 16,
   "metadata": {},
   "outputs": [
    {
     "name": "stdout",
     "output_type": "stream",
     "text": [
      "p-value for best_val_acc_epoch: {('Adam', 'Adamax'): 0.6488443853143682, ('Adam', 'Nadam'): 0.48969007011677557, ('Adamax', 'Nadam'): 0.2210784150761379}\n"
     ]
    }
   ],
   "source": [
    "# p-value for best validation accuracy epoch - can we reject the null hypothesis?\n",
    "# see here: https://github.com/PhilipMay/mltb/blob/master/mltb/tools.py\n",
    "print('p-value for best_val_acc_epoch:', mltb.tools.ttest_combinations(result['best_val_acc_epoch']))"
   ]
  }
 ],
 "metadata": {
  "accelerator": "GPU",
  "colab": {
   "collapsed_sections": [],
   "name": "scaling+relu.ipynb",
   "provenance": [],
   "version": "0.3.2"
  },
  "kernelspec": {
   "display_name": "Python 3",
   "language": "python",
   "name": "python3"
  },
  "language_info": {
   "codemirror_mode": {
    "name": "ipython",
    "version": 3
   },
   "file_extension": ".py",
   "mimetype": "text/x-python",
   "name": "python",
   "nbconvert_exporter": "python",
   "pygments_lexer": "ipython3",
   "version": "3.6.8"
  }
 },
 "nbformat": 4,
 "nbformat_minor": 1
}
